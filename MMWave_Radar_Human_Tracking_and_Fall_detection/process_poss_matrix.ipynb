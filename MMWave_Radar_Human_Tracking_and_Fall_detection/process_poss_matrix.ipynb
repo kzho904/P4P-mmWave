{
 "cells": [
  {
   "cell_type": "code",
   "execution_count": 7,
   "metadata": {},
   "outputs": [],
   "source": [
    "import os\n",
    "import shutil\n",
    "import random"
   ]
  },
  {
   "cell_type": "code",
   "execution_count": 12,
   "metadata": {},
   "outputs": [],
   "source": [
    "source_dir = \"pointnet_data/standing\"\n",
    "train_dir = f\"{source_dir}/train\"\n",
    "test_dir = f\"{source_dir}/test\""
   ]
  },
  {
   "cell_type": "code",
   "execution_count": 13,
   "metadata": {},
   "outputs": [],
   "source": [
    "try:\n",
    "    os.makedirs(train_dir)\n",
    "    os.makedirs(test_dir)\n",
    "except:\n",
    "    pass"
   ]
  },
  {
   "cell_type": "code",
   "execution_count": 14,
   "metadata": {},
   "outputs": [],
   "source": [
    "files = [f for f in os.listdir(source_dir) if os.path.isfile(os.path.join(source_dir, f))]"
   ]
  },
  {
   "cell_type": "code",
   "execution_count": 15,
   "metadata": {},
   "outputs": [],
   "source": [
    "random.seed(42)\n",
    "random.shuffle(files)\n",
    "\n",
    "train_ratio = 0.8\n",
    "split_index = int(train_ratio * len(files))\n",
    "train_files = files[:split_index]\n",
    "test_files = files[split_index:]\n",
    "\n",
    "for file in train_files:\n",
    "    shutil.move(os.path.join(source_dir, file), os.path.join(train_dir, file))\n",
    "\n",
    "for file in test_files:\n",
    "    shutil.move(os.path.join(source_dir, file), os.path.join(test_dir, file))"
   ]
  }
 ],
 "metadata": {
  "kernelspec": {
   "display_name": "Python 3",
   "language": "python",
   "name": "python3"
  },
  "language_info": {
   "codemirror_mode": {
    "name": "ipython",
    "version": 3
   },
   "file_extension": ".py",
   "mimetype": "text/x-python",
   "name": "python",
   "nbconvert_exporter": "python",
   "pygments_lexer": "ipython3",
   "version": "3.10.12"
  }
 },
 "nbformat": 4,
 "nbformat_minor": 2
}
