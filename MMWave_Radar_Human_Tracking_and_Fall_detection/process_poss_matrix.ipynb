{
 "cells": [
  {
   "cell_type": "code",
   "execution_count": 149,
   "metadata": {},
   "outputs": [],
   "source": [
    "import os\n",
    "import shutil\n",
    "import random\n",
    "import numpy as np\n",
    "import pickle"
   ]
  },
  {
   "cell_type": "code",
   "execution_count": 163,
   "metadata": {},
   "outputs": [],
   "source": [
    "source_dir = \"2_class_data/sitting\"\n",
    "train_dir = f\"{source_dir}/train\"\n",
    "test_dir = f\"{source_dir}/test\""
   ]
  },
  {
   "cell_type": "code",
   "execution_count": 164,
   "metadata": {},
   "outputs": [],
   "source": [
    "try:\n",
    "    os.makedirs(train_dir)\n",
    "    os.makedirs(test_dir)\n",
    "except:\n",
    "    pass"
   ]
  },
  {
   "cell_type": "code",
   "execution_count": 165,
   "metadata": {},
   "outputs": [],
   "source": [
    "def normalizeArray(array):\n",
    "    xyz = array[:,:3]\n",
    "    rest = array[:,3:]\n",
    "\n",
    "    min_vals = xyz.min(axis=0)\n",
    "    max_vals = xyz.max(axis=0)\n",
    "    normalized_xyz = (xyz - min_vals) / (max_vals - min_vals)\n",
    "\n",
    "    normalized_data = np.hstack((normalized_xyz, rest))\n",
    "    return normalized_data"
   ]
  },
  {
   "cell_type": "code",
   "execution_count": 166,
   "metadata": {},
   "outputs": [],
   "source": [
    "def normalizeNestedArrays(nested_arrays):\n",
    "    normalized_arrays = []\n",
    "    for array in nested_arrays:\n",
    "        normalized_array = normalizeArray(array)\n",
    "        normalized_arrays.append(normalized_array)\n",
    "    return normalized_arrays"
   ]
  },
  {
   "cell_type": "code",
   "execution_count": 167,
   "metadata": {},
   "outputs": [],
   "source": [
    "# def normalizeArray(data):\n",
    "    \n",
    "#     for array in data:\n",
    "#         # Assuming each array in data is a numpy array and has at least 4 columns\n",
    "#         xyz = array[:, :3]  # Extract the xyz coordinates\n",
    "#         rest = array[:, 3:]  # Extract the rest of the data\n",
    "#         # max_values = np.array([np.max(np.abs(sub_array[:, i])) for i in range(3) for sub_array in data])\n",
    "#         # min_values = np.array([np.min(np.abs(sub_array[:, i])) for i in range(3) for sub_array in data])\n",
    "#         # Calculate the minimum and maximum values for each dimension (x, y, z)\n",
    "#         min_vals = xyz.min(axis=0)\n",
    "#         max_vals = xyz.max(axis=0)\n",
    "        \n",
    "#         # Normalize the xyz coordinates\n",
    "#         normalized_xyz = (xyz - min_vals) / (max_vals - min_vals)\n",
    "        \n",
    "#         # Concatenate the normalized xyz with the rest of the data\n",
    "#         concatenated_data = np.hstack((normalized_xyz, rest))\n",
    "        \n",
    "#         # Append the normalized array to the list\n",
    "#         output_data = concatenated_data.astype(np.float16)  # Convert back to list if needed\n",
    "    \n",
    "#     return output_data"
   ]
  },
  {
   "cell_type": "code",
   "execution_count": 168,
   "metadata": {},
   "outputs": [],
   "source": [
    "# def to_np_array(normalized_data):\n",
    "#     flattened_list = [array for sublist in normalized_data for array in sublist]\n",
    "#     numpy_array = np.array(flattened_list, dtype=np.float16)\n",
    "#     return numpy_array"
   ]
  },
  {
   "cell_type": "code",
   "execution_count": 169,
   "metadata": {},
   "outputs": [
    {
     "name": "stdout",
     "output_type": "stream",
     "text": [
      "[array([[ 2.295e-02,  3.326e+00,  3.818e-01,  2.505e-01,  3.290e+02],\n",
      "       [ 4.890e-01,  3.455e+00,  1.582e-01, -2.505e-01,  3.240e+02],\n",
      "       [-8.496e-02,  3.383e+00,  2.695e-01,  2.505e-01,  3.140e+02]],\n",
      "      dtype=float16), array([[ 2.295e-02,  3.326e+00,  3.818e-01,  2.505e-01,  3.290e+02],\n",
      "       [-5.469e-02,  3.326e+00,  4.160e-01,  2.505e-01,  2.940e+02],\n",
      "       [ 1.455e-01,  3.012e+00,  4.336e-01,  1.252e-01,  2.180e+02],\n",
      "       [-1.328e-01,  3.258e+00,  5.146e-01,  2.505e-01,  2.540e+02],\n",
      "       [ 2.271e-01,  2.984e+00,  4.346e-01,  0.000e+00,  1.480e+02],\n",
      "       [-5.469e-02,  3.230e+00,  4.990e-01,  1.252e-01,  1.970e+02],\n",
      "       [ 2.925e-01,  3.027e+00,  2.490e-01,  0.000e+00,  1.260e+02],\n",
      "       [ 6.348e-02,  3.316e+00,  2.012e-01,  1.252e-01,  2.070e+02],\n",
      "       [ 6.348e-02,  2.955e+00,  5.244e-01,  0.000e+00,  1.640e+02],\n",
      "       [ 7.617e-02,  3.031e+00,  5.068e-01,  0.000e+00,  1.750e+02],\n",
      "       [ 1.455e-01,  2.967e+00,  4.795e-01,  0.000e+00,  1.140e+02],\n",
      "       [ 9.277e-03,  3.156e+00,  4.756e-01,  1.252e-01,  2.250e+02],\n",
      "       [ 6.348e-02,  3.160e+00,  3.271e-01,  1.252e-01,  2.170e+02],\n",
      "       [ 6.348e-02,  3.137e+00,  3.438e-01,  1.252e-01,  2.010e+02],\n",
      "       [-8.496e-02,  3.383e+00,  2.695e-01,  2.505e-01,  3.140e+02]],\n",
      "      dtype=float16), array([[ 4.890e-01,  3.455e+00,  1.582e-01, -2.505e-01,  3.240e+02],\n",
      "       [-8.496e-02,  3.383e+00,  2.695e-01,  2.505e-01,  3.140e+02],\n",
      "       [-4.395e-03,  3.279e+00,  3.135e-01,  2.505e-01,  3.610e+02]],\n",
      "      dtype=float16), array([[-5.469e-02,  3.326e+00,  4.160e-01,  2.505e-01,  2.940e+02],\n",
      "       [ 1.455e-01,  3.012e+00,  4.336e-01,  1.252e-01,  2.180e+02],\n",
      "       [-1.328e-01,  3.258e+00,  5.146e-01,  2.505e-01,  2.540e+02],\n",
      "       [ 6.348e-02,  3.316e+00,  2.012e-01,  1.252e-01,  2.070e+02],\n",
      "       [ 9.277e-03,  3.156e+00,  4.756e-01,  1.252e-01,  2.250e+02],\n",
      "       [ 6.348e-02,  3.160e+00,  3.271e-01,  1.252e-01,  2.170e+02],\n",
      "       [ 6.348e-02,  3.137e+00,  3.438e-01,  1.252e-01,  2.010e+02],\n",
      "       [-8.496e-02,  3.383e+00,  2.695e-01,  2.505e-01,  3.140e+02],\n",
      "       [-4.395e-03,  3.279e+00,  3.135e-01,  2.505e-01,  3.610e+02],\n",
      "       [ 4.182e-01,  3.441e+00,  2.305e-01, -2.505e-01,  2.460e+02]],\n",
      "      dtype=float16), array([[-5.469e-02,  3.326e+00,  4.160e-01,  2.505e-01,  2.940e+02],\n",
      "       [ 1.455e-01,  3.012e+00,  4.336e-01,  1.252e-01,  2.180e+02],\n",
      "       [-1.328e-01,  3.258e+00,  5.146e-01,  2.505e-01,  2.540e+02],\n",
      "       [ 2.271e-01,  2.984e+00,  4.346e-01,  0.000e+00,  1.480e+02],\n",
      "       [-5.469e-02,  3.230e+00,  4.990e-01,  1.252e-01,  1.970e+02],\n",
      "       [ 2.925e-01,  3.027e+00,  2.490e-01,  0.000e+00,  1.260e+02],\n",
      "       [ 6.348e-02,  3.316e+00,  2.012e-01,  1.252e-01,  2.070e+02],\n",
      "       [ 6.348e-02,  2.955e+00,  5.244e-01,  0.000e+00,  1.640e+02],\n",
      "       [ 7.617e-02,  3.031e+00,  5.068e-01,  0.000e+00,  1.750e+02],\n",
      "       [ 1.455e-01,  2.967e+00,  4.795e-01,  0.000e+00,  1.140e+02],\n",
      "       [ 9.277e-03,  3.156e+00,  4.756e-01,  1.252e-01,  2.250e+02],\n",
      "       [ 6.348e-02,  3.160e+00,  3.271e-01,  1.252e-01,  2.170e+02],\n",
      "       [ 6.348e-02,  3.137e+00,  3.438e-01,  1.252e-01,  2.010e+02],\n",
      "       [-8.496e-02,  3.383e+00,  2.695e-01,  2.505e-01,  3.140e+02],\n",
      "       [-4.395e-03,  3.279e+00,  3.135e-01,  2.505e-01,  3.610e+02]],\n",
      "      dtype=float16), array([[ 4.890e-01,  3.455e+00,  1.582e-01, -2.505e-01,  3.240e+02],\n",
      "       [-8.496e-02,  3.383e+00,  2.695e-01,  2.505e-01,  3.140e+02],\n",
      "       [-4.395e-03,  3.279e+00,  3.135e-01,  2.505e-01,  3.610e+02]],\n",
      "      dtype=float16), array([[ 1.455e-01,  3.012e+00,  4.336e-01,  1.252e-01,  2.180e+02],\n",
      "       [-1.328e-01,  3.258e+00,  5.146e-01,  2.505e-01,  2.540e+02],\n",
      "       [ 6.348e-02,  3.316e+00,  2.012e-01,  1.252e-01,  2.070e+02],\n",
      "       [ 9.277e-03,  3.156e+00,  4.756e-01,  1.252e-01,  2.250e+02],\n",
      "       [ 6.348e-02,  3.160e+00,  3.271e-01,  1.252e-01,  2.170e+02],\n",
      "       [ 6.348e-02,  3.137e+00,  3.438e-01,  1.252e-01,  2.010e+02],\n",
      "       [-8.496e-02,  3.383e+00,  2.695e-01,  2.505e-01,  3.140e+02],\n",
      "       [-4.395e-03,  3.279e+00,  3.135e-01,  2.505e-01,  3.610e+02],\n",
      "       [ 4.182e-01,  3.441e+00,  2.305e-01, -2.505e-01,  2.460e+02],\n",
      "       [-2.275e-01,  3.188e+00,  5.732e-01,  3.757e-01,  2.630e+02]],\n",
      "      dtype=float16), array([[-1.162e-01,  3.430e+00,  4.258e-01,  1.252e-01,  1.360e+02],\n",
      "       [ 1.455e-01,  3.012e+00,  4.336e-01,  1.252e-01,  2.180e+02],\n",
      "       [-1.328e-01,  3.258e+00,  5.146e-01,  2.505e-01,  2.540e+02],\n",
      "       [ 2.271e-01,  2.984e+00,  4.346e-01,  0.000e+00,  1.480e+02],\n",
      "       [-5.469e-02,  3.230e+00,  4.990e-01,  1.252e-01,  1.970e+02],\n",
      "       [ 2.925e-01,  3.027e+00,  2.490e-01,  0.000e+00,  1.260e+02],\n",
      "       [ 6.348e-02,  3.316e+00,  2.012e-01,  1.252e-01,  2.070e+02],\n",
      "       [ 6.348e-02,  2.955e+00,  5.244e-01,  0.000e+00,  1.640e+02],\n",
      "       [ 7.617e-02,  3.031e+00,  5.068e-01,  0.000e+00,  1.750e+02],\n",
      "       [ 1.455e-01,  2.967e+00,  4.795e-01,  0.000e+00,  1.140e+02],\n",
      "       [ 9.277e-03,  3.156e+00,  4.756e-01,  1.252e-01,  2.250e+02],\n",
      "       [ 6.348e-02,  3.160e+00,  3.271e-01,  1.252e-01,  2.170e+02],\n",
      "       [ 6.348e-02,  3.137e+00,  3.438e-01,  1.252e-01,  2.010e+02],\n",
      "       [-8.496e-02,  3.383e+00,  2.695e-01,  2.505e-01,  3.140e+02],\n",
      "       [-4.395e-03,  3.279e+00,  3.135e-01,  2.505e-01,  3.610e+02],\n",
      "       [ 8.838e-02,  3.223e+00,  3.828e-01,  1.252e-01,  1.360e+02],\n",
      "       [ 5.127e-02,  3.000e+00,  4.170e-01,  1.252e-01,  1.810e+02],\n",
      "       [-2.275e-01,  3.188e+00,  5.732e-01,  3.757e-01,  2.630e+02]],\n",
      "      dtype=float16)]\n"
     ]
    }
   ],
   "source": [
    "file =\"/Users/katiezhou/P4P-mmWave/MMWave_Radar_Human_Tracking_and_Fall_detection/pointnet_data/sitting/point_taken_poss_matrix600.pkl\"\n",
    "# Load the data from the pickle file\n",
    "with open(file, 'rb') as file:\n",
    "    data = pickle.load(file)\n",
    "\n",
    "print(data)"
   ]
  },
  {
   "cell_type": "code",
   "execution_count": 170,
   "metadata": {},
   "outputs": [],
   "source": [
    "normalized_data = normalizeNestedArrays(data)"
   ]
  },
  {
   "cell_type": "code",
   "execution_count": 171,
   "metadata": {},
   "outputs": [
    {
     "data": {
      "text/plain": [
       "[array([[ 1.879e-01,  0.000e+00,  1.000e+00,  2.505e-01,  3.290e+02],\n",
       "        [ 1.000e+00,  1.000e+00,  0.000e+00, -2.505e-01,  3.240e+02],\n",
       "        [ 0.000e+00,  4.395e-01,  4.978e-01,  2.505e-01,  3.140e+02]],\n",
       "       dtype=float16),\n",
       " array([[3.662e-01, 8.677e-01, 5.591e-01, 2.505e-01, 3.290e+02],\n",
       "        [1.837e-01, 8.677e-01, 6.646e-01, 2.505e-01, 2.940e+02],\n",
       "        [6.543e-01, 1.324e-01, 7.192e-01, 1.252e-01, 2.180e+02],\n",
       "        [0.000e+00, 7.075e-01, 9.697e-01, 2.505e-01, 2.540e+02],\n",
       "        [8.462e-01, 6.848e-02, 7.222e-01, 0.000e+00, 1.480e+02],\n",
       "        [1.837e-01, 6.440e-01, 9.214e-01, 1.252e-01, 1.970e+02],\n",
       "        [1.000e+00, 1.689e-01, 1.481e-01, 0.000e+00, 1.260e+02],\n",
       "        [4.614e-01, 8.447e-01, 0.000e+00, 1.252e-01, 2.070e+02],\n",
       "        [4.614e-01, 0.000e+00, 1.000e+00, 0.000e+00, 1.640e+02],\n",
       "        [4.915e-01, 1.781e-01, 9.458e-01, 0.000e+00, 1.750e+02],\n",
       "        [6.543e-01, 2.740e-02, 8.608e-01, 0.000e+00, 1.140e+02],\n",
       "        [3.340e-01, 4.702e-01, 8.491e-01, 1.252e-01, 2.250e+02],\n",
       "        [4.614e-01, 4.795e-01, 3.896e-01, 1.252e-01, 2.170e+02],\n",
       "        [4.614e-01, 4.246e-01, 4.412e-01, 1.252e-01, 2.010e+02],\n",
       "        [1.125e-01, 1.000e+00, 2.114e-01, 2.505e-01, 3.140e+02]],\n",
       "       dtype=float16),\n",
       " array([[ 1.000e+00,  1.000e+00,  0.000e+00, -2.505e-01,  3.240e+02],\n",
       "        [ 0.000e+00,  5.889e-01,  7.168e-01,  2.505e-01,  3.140e+02],\n",
       "        [ 1.403e-01,  0.000e+00,  1.000e+00,  2.505e-01,  3.610e+02]],\n",
       "       dtype=float16),\n",
       " array([[ 1.418e-01,  7.319e-01,  6.855e-01,  2.505e-01,  2.940e+02],\n",
       "        [ 5.054e-01,  0.000e+00,  7.412e-01,  1.252e-01,  2.180e+02],\n",
       "        [ 0.000e+00,  5.728e-01,  1.000e+00,  2.505e-01,  2.540e+02],\n",
       "        [ 3.564e-01,  7.090e-01,  0.000e+00,  1.252e-01,  2.070e+02],\n",
       "        [ 2.581e-01,  3.364e-01,  8.755e-01,  1.252e-01,  2.250e+02],\n",
       "        [ 3.564e-01,  3.455e-01,  4.019e-01,  1.252e-01,  2.170e+02],\n",
       "        [ 3.564e-01,  2.910e-01,  4.548e-01,  1.252e-01,  2.010e+02],\n",
       "        [ 8.685e-02,  8.638e-01,  2.180e-01,  2.505e-01,  3.140e+02],\n",
       "        [ 2.332e-01,  6.226e-01,  3.582e-01,  2.505e-01,  3.610e+02],\n",
       "        [ 1.000e+00,  1.000e+00,  9.344e-02, -2.505e-01,  2.460e+02]],\n",
       "       dtype=float16),\n",
       " array([[1.837e-01, 8.677e-01, 6.646e-01, 2.505e-01, 2.940e+02],\n",
       "        [6.543e-01, 1.324e-01, 7.192e-01, 1.252e-01, 2.180e+02],\n",
       "        [0.000e+00, 7.075e-01, 9.697e-01, 2.505e-01, 2.540e+02],\n",
       "        [8.462e-01, 6.848e-02, 7.222e-01, 0.000e+00, 1.480e+02],\n",
       "        [1.837e-01, 6.440e-01, 9.214e-01, 1.252e-01, 1.970e+02],\n",
       "        [1.000e+00, 1.689e-01, 1.481e-01, 0.000e+00, 1.260e+02],\n",
       "        [4.614e-01, 8.447e-01, 0.000e+00, 1.252e-01, 2.070e+02],\n",
       "        [4.614e-01, 0.000e+00, 1.000e+00, 0.000e+00, 1.640e+02],\n",
       "        [4.915e-01, 1.781e-01, 9.458e-01, 0.000e+00, 1.750e+02],\n",
       "        [6.543e-01, 2.740e-02, 8.608e-01, 0.000e+00, 1.140e+02],\n",
       "        [3.340e-01, 4.702e-01, 8.491e-01, 1.252e-01, 2.250e+02],\n",
       "        [4.614e-01, 4.795e-01, 3.896e-01, 1.252e-01, 2.170e+02],\n",
       "        [4.614e-01, 4.246e-01, 4.412e-01, 1.252e-01, 2.010e+02],\n",
       "        [1.125e-01, 1.000e+00, 2.114e-01, 2.505e-01, 3.140e+02],\n",
       "        [3.020e-01, 7.578e-01, 3.474e-01, 2.505e-01, 3.610e+02]],\n",
       "       dtype=float16),\n",
       " array([[ 1.000e+00,  1.000e+00,  0.000e+00, -2.505e-01,  3.240e+02],\n",
       "        [ 0.000e+00,  5.889e-01,  7.168e-01,  2.505e-01,  3.140e+02],\n",
       "        [ 1.403e-01,  0.000e+00,  1.000e+00,  2.505e-01,  3.610e+02]],\n",
       "       dtype=float16),\n",
       " array([[ 5.781e-01,  0.000e+00,  6.245e-01,  1.252e-01,  2.180e+02],\n",
       "        [ 1.467e-01,  5.728e-01,  8.423e-01,  2.505e-01,  2.540e+02],\n",
       "        [ 4.509e-01,  7.090e-01,  0.000e+00,  1.252e-01,  2.070e+02],\n",
       "        [ 3.669e-01,  3.364e-01,  7.373e-01,  1.252e-01,  2.250e+02],\n",
       "        [ 4.509e-01,  3.455e-01,  3.386e-01,  1.252e-01,  2.170e+02],\n",
       "        [ 4.509e-01,  2.910e-01,  3.833e-01,  1.252e-01,  2.010e+02],\n",
       "        [ 2.208e-01,  8.638e-01,  1.837e-01,  2.505e-01,  3.140e+02],\n",
       "        [ 3.457e-01,  6.226e-01,  3.018e-01,  2.505e-01,  3.610e+02],\n",
       "        [ 1.000e+00,  1.000e+00,  7.874e-02, -2.505e-01,  2.460e+02],\n",
       "        [ 0.000e+00,  4.092e-01,  1.000e+00,  3.757e-01,  2.630e+02]],\n",
       "       dtype=float16),\n",
       " array([[2.141e-01, 1.000e+00, 6.035e-01, 1.252e-01, 1.360e+02],\n",
       "        [7.173e-01, 1.193e-01, 6.245e-01, 1.252e-01, 2.180e+02],\n",
       "        [1.821e-01, 6.377e-01, 8.423e-01, 2.505e-01, 2.540e+02],\n",
       "        [8.740e-01, 6.174e-02, 6.274e-01, 0.000e+00, 1.480e+02],\n",
       "        [3.323e-01, 5.801e-01, 8.003e-01, 1.252e-01, 1.970e+02],\n",
       "        [1.000e+00, 1.522e-01, 1.287e-01, 0.000e+00, 1.260e+02],\n",
       "        [5.596e-01, 7.612e-01, 0.000e+00, 1.252e-01, 2.070e+02],\n",
       "        [5.596e-01, 0.000e+00, 8.687e-01, 0.000e+00, 1.640e+02],\n",
       "        [5.840e-01, 1.605e-01, 8.213e-01, 0.000e+00, 1.750e+02],\n",
       "        [7.173e-01, 2.469e-02, 7.480e-01, 0.000e+00, 1.140e+02],\n",
       "        [4.553e-01, 4.238e-01, 7.373e-01, 1.252e-01, 2.250e+02],\n",
       "        [5.596e-01, 4.321e-01, 3.386e-01, 1.252e-01, 2.170e+02],\n",
       "        [5.596e-01, 3.828e-01, 3.833e-01, 1.252e-01, 2.010e+02],\n",
       "        [2.742e-01, 9.014e-01, 1.837e-01, 2.505e-01, 3.140e+02],\n",
       "        [4.292e-01, 6.831e-01, 3.018e-01, 2.505e-01, 3.610e+02],\n",
       "        [6.074e-01, 5.640e-01, 4.883e-01, 1.252e-01, 1.360e+02],\n",
       "        [5.361e-01, 9.467e-02, 5.801e-01, 1.252e-01, 1.810e+02],\n",
       "        [0.000e+00, 4.897e-01, 1.000e+00, 3.757e-01, 2.630e+02]],\n",
       "       dtype=float16)]"
      ]
     },
     "execution_count": 171,
     "metadata": {},
     "output_type": "execute_result"
    }
   ],
   "source": [
    "normalized_data"
   ]
  },
  {
   "cell_type": "code",
   "execution_count": 172,
   "metadata": {},
   "outputs": [],
   "source": [
    "files = [f for f in os.listdir(source_dir) if os.path.isfile(os.path.join(source_dir, f))]"
   ]
  },
  {
   "cell_type": "code",
   "execution_count": 173,
   "metadata": {},
   "outputs": [
    {
     "data": {
      "text/plain": [
       "693"
      ]
     },
     "execution_count": 173,
     "metadata": {},
     "output_type": "execute_result"
    }
   ],
   "source": [
    "len(files)"
   ]
  },
  {
   "cell_type": "code",
   "execution_count": 175,
   "metadata": {},
   "outputs": [],
   "source": [
    "for f in files:\n",
    "    file_path =  os.path.join(source_dir, f)\n",
    "    try:\n",
    "        with open(file_path, 'rb') as file_in:\n",
    "            data = pickle.load(file_in)\n",
    "\n",
    "        normalized_data = normalizeNestedArrays(data)\n",
    "        \n",
    "        with open(file_path, 'wb') as file_out:\n",
    "            pickle.dump(normalized_data, file_out)\n",
    "    except Exception as e:\n",
    "        print(f\"An error has occured while processing file {f}: {e}\")\n",
    "\n",
    "                "
   ]
  },
  {
   "cell_type": "code",
   "execution_count": 176,
   "metadata": {},
   "outputs": [
    {
     "name": "stdout",
     "output_type": "stream",
     "text": [
      "554\n"
     ]
    }
   ],
   "source": [
    "random.seed(42)\n",
    "random.shuffle(files)\n",
    "\n",
    "train_ratio = 0.8\n",
    "split_index = int(train_ratio * len(files))\n",
    "train_files = files[:split_index]\n",
    "test_files = files[split_index:]\n",
    "print(split_index)"
   ]
  },
  {
   "cell_type": "code",
   "execution_count": 177,
   "metadata": {},
   "outputs": [],
   "source": [
    "\n",
    "for file in train_files:\n",
    "    shutil.move(os.path.join(source_dir, file), os.path.join(train_dir, file))\n",
    "\n",
    "for file in test_files:\n",
    "    shutil.move(os.path.join(source_dir, file), os.path.join(test_dir, file))"
   ]
  },
  {
   "cell_type": "code",
   "execution_count": null,
   "metadata": {},
   "outputs": [],
   "source": []
  }
 ],
 "metadata": {
  "kernelspec": {
   "display_name": "Python 3",
   "language": "python",
   "name": "python3"
  },
  "language_info": {
   "codemirror_mode": {
    "name": "ipython",
    "version": 3
   },
   "file_extension": ".py",
   "mimetype": "text/x-python",
   "name": "python",
   "nbconvert_exporter": "python",
   "pygments_lexer": "ipython3",
   "version": "3.10.12"
  }
 },
 "nbformat": 4,
 "nbformat_minor": 2
}
