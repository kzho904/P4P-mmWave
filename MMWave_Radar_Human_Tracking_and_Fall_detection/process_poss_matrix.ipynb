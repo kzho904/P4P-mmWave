{
 "cells": [
  {
   "cell_type": "code",
   "execution_count": 30,
   "metadata": {},
   "outputs": [],
   "source": [
    "import os\n",
    "import shutil\n",
    "import random\n",
    "import numpy as np\n",
    "import pickle"
   ]
  },
  {
   "cell_type": "code",
   "execution_count": 31,
   "metadata": {},
   "outputs": [
    {
     "name": "stdout",
     "output_type": "stream",
     "text": [
      "/Users/katiezhou/P4P-mmWave/MMWave_Radar_Human_Tracking_and_Fall_detection\n"
     ]
    }
   ],
   "source": [
    "base_dir = os.getcwd()\n",
    "print(base_dir)"
   ]
  },
  {
   "cell_type": "code",
   "execution_count": 32,
   "metadata": {},
   "outputs": [
    {
     "name": "stdout",
     "output_type": "stream",
     "text": [
      "/Users/katiezhou/P4P-mmWave/MMWave_Radar_Human_Tracking_and_Fall_detection/data/3_09_2024_lab_pc_raw_data/walking\n",
      "train_dir is: /Users/katiezhou/P4P-mmWave/MMWave_Radar_Human_Tracking_and_Fall_detection/data/3_09_2024_lab_pc_raw_data/walking/train\n",
      "test_dir is: /Users/katiezhou/P4P-mmWave/MMWave_Radar_Human_Tracking_and_Fall_detection/data/3_09_2024_lab_pc_raw_data/walking/test\n"
     ]
    }
   ],
   "source": [
    "data_dir = \"data/3_09_2024_lab_pc_raw_data/walking\"\n",
    "source_dir = os.path.join(base_dir, data_dir)\n",
    "print(source_dir)\n",
    "train_dir = f\"{source_dir}/train\"\n",
    "test_dir = f\"{source_dir}/test\"\n",
    "print(f\"train_dir is: {train_dir}\")\n",
    "print(f\"test_dir is: {test_dir}\")"
   ]
  },
  {
   "cell_type": "code",
   "execution_count": 33,
   "metadata": {},
   "outputs": [],
   "source": [
    "try:\n",
    "    if not os.path.exists(train_dir):\n",
    "        os.makedirs(train_dir)\n",
    "    else:\n",
    "        print(f\"Directory already exists: {train_dir}\")\n",
    "        \n",
    "    if not os.path.exists(test_dir):\n",
    "        os.makedirs(test_dir)\n",
    "    else:\n",
    "        print(f\"Directory already exists: {test_dir}\")\n",
    "except PermissionError:\n",
    "    print(f\"Permission denied: unable to create directory {train_dir}\")\n",
    "except OSError as e:\n",
    "    print(f\"OS error: {e}\")"
   ]
  },
  {
   "cell_type": "code",
   "execution_count": 4,
   "metadata": {},
   "outputs": [],
   "source": [
    "# def normalizeArray(array):\n",
    "#     xyz = array[:,:3]\n",
    "#     rest = array[:,3:]\n",
    "\n",
    "#     min_vals = xyz.min(axis=0)\n",
    "#     max_vals = xyz.max(axis=0)\n",
    "#     normalized_xyz = (xyz - min_vals) / (max_vals - min_vals)\n",
    "\n",
    "#     normalized_data = np.hstack((normalized_xyz, rest))\n",
    "#     return normalized_data"
   ]
  },
  {
   "cell_type": "code",
   "execution_count": 166,
   "metadata": {},
   "outputs": [],
   "source": [
    "# def normalizeNestedArrays(nested_arrays):\n",
    "#     normalized_arrays = []\n",
    "#     for array in nested_arrays:\n",
    "#         normalized_array = normalizeArray(array)\n",
    "#         normalized_arrays.append(normalized_array)\n",
    "#     return normalized_arrays"
   ]
  },
  {
   "cell_type": "code",
   "execution_count": null,
   "metadata": {},
   "outputs": [],
   "source": [
    "def standardizeArray(array):\n",
    "    xyz = array[:,:3]\n",
    "    rest = array[:,3:]\n",
    "\n",
    "    # Calculate the mean and standard deviation for the xyz coordinates\n",
    "    xyz_mean = np.mean(xyz, axis=0)\n",
    "    xyz_std = np.std(xyz, axis=0)\n",
    "    \n",
    "    # Standardizing the xyz coordinates\n",
    "    standardized_xyz = (xyz - xyz_mean) / xyz_std\n",
    "    \n",
    "    # Recombining the standardized xyz with the rest of the array\n",
    "    standardized_array = np.concatenate([standardized_xyz, rest], axis=1)\n",
    "    \n",
    "    return standardized_array"
   ]
  },
  {
   "cell_type": "code",
   "execution_count": 20,
   "metadata": {},
   "outputs": [
    {
     "ename": "FileNotFoundError",
     "evalue": "[Errno 2] No such file or directory: 'sd_3_class_data/walking/point_taken_poss_matrix0.pkl'",
     "output_type": "error",
     "traceback": [
      "\u001b[0;31m---------------------------------------------------------------------------\u001b[0m",
      "\u001b[0;31mFileNotFoundError\u001b[0m                         Traceback (most recent call last)",
      "Cell \u001b[0;32mIn[20], line 3\u001b[0m\n\u001b[1;32m      1\u001b[0m file \u001b[38;5;241m=\u001b[39m\u001b[38;5;124m\"\u001b[39m\u001b[38;5;124msd_3_class_data/walking/point_taken_poss_matrix0.pkl\u001b[39m\u001b[38;5;124m\"\u001b[39m\n\u001b[1;32m      2\u001b[0m \u001b[38;5;66;03m# Load the data from the pickle file\u001b[39;00m\n\u001b[0;32m----> 3\u001b[0m \u001b[38;5;28;01mwith\u001b[39;00m \u001b[38;5;28;43mopen\u001b[39;49m\u001b[43m(\u001b[49m\u001b[43mfile\u001b[49m\u001b[43m,\u001b[49m\u001b[43m \u001b[49m\u001b[38;5;124;43m'\u001b[39;49m\u001b[38;5;124;43mrb\u001b[39;49m\u001b[38;5;124;43m'\u001b[39;49m\u001b[43m)\u001b[49m \u001b[38;5;28;01mas\u001b[39;00m file:\n\u001b[1;32m      4\u001b[0m     data \u001b[38;5;241m=\u001b[39m pickle\u001b[38;5;241m.\u001b[39mload(file)\n\u001b[1;32m      6\u001b[0m data\n",
      "File \u001b[0;32m~/mambaforge/envs/py38/lib/python3.10/site-packages/IPython/core/interactiveshell.py:284\u001b[0m, in \u001b[0;36m_modified_open\u001b[0;34m(file, *args, **kwargs)\u001b[0m\n\u001b[1;32m    277\u001b[0m \u001b[38;5;28;01mif\u001b[39;00m file \u001b[38;5;129;01min\u001b[39;00m {\u001b[38;5;241m0\u001b[39m, \u001b[38;5;241m1\u001b[39m, \u001b[38;5;241m2\u001b[39m}:\n\u001b[1;32m    278\u001b[0m     \u001b[38;5;28;01mraise\u001b[39;00m \u001b[38;5;167;01mValueError\u001b[39;00m(\n\u001b[1;32m    279\u001b[0m         \u001b[38;5;124mf\u001b[39m\u001b[38;5;124m\"\u001b[39m\u001b[38;5;124mIPython won\u001b[39m\u001b[38;5;124m'\u001b[39m\u001b[38;5;124mt let you open fd=\u001b[39m\u001b[38;5;132;01m{\u001b[39;00mfile\u001b[38;5;132;01m}\u001b[39;00m\u001b[38;5;124m by default \u001b[39m\u001b[38;5;124m\"\u001b[39m\n\u001b[1;32m    280\u001b[0m         \u001b[38;5;124m\"\u001b[39m\u001b[38;5;124mas it is likely to crash IPython. If you know what you are doing, \u001b[39m\u001b[38;5;124m\"\u001b[39m\n\u001b[1;32m    281\u001b[0m         \u001b[38;5;124m\"\u001b[39m\u001b[38;5;124myou can use builtins\u001b[39m\u001b[38;5;124m'\u001b[39m\u001b[38;5;124m open.\u001b[39m\u001b[38;5;124m\"\u001b[39m\n\u001b[1;32m    282\u001b[0m     )\n\u001b[0;32m--> 284\u001b[0m \u001b[38;5;28;01mreturn\u001b[39;00m \u001b[43mio_open\u001b[49m\u001b[43m(\u001b[49m\u001b[43mfile\u001b[49m\u001b[43m,\u001b[49m\u001b[43m \u001b[49m\u001b[38;5;241;43m*\u001b[39;49m\u001b[43margs\u001b[49m\u001b[43m,\u001b[49m\u001b[43m \u001b[49m\u001b[38;5;241;43m*\u001b[39;49m\u001b[38;5;241;43m*\u001b[39;49m\u001b[43mkwargs\u001b[49m\u001b[43m)\u001b[49m\n",
      "\u001b[0;31mFileNotFoundError\u001b[0m: [Errno 2] No such file or directory: 'sd_3_class_data/walking/point_taken_poss_matrix0.pkl'"
     ]
    }
   ],
   "source": [
    "file =\"sd_3_class_data/walking/point_taken_poss_matrix0.pkl\"\n",
    "# Load the data from the pickle file\n",
    "with open(file, 'rb') as file:\n",
    "    data = pickle.load(file)\n",
    "\n",
    "data"
   ]
  },
  {
   "cell_type": "code",
   "execution_count": 170,
   "metadata": {},
   "outputs": [],
   "source": [
    "# normalized_data = normalizeNestedArrays(data)"
   ]
  },
  {
   "cell_type": "code",
   "execution_count": 171,
   "metadata": {},
   "outputs": [
    {
     "data": {
      "text/plain": [
       "[array([[ 1.879e-01,  0.000e+00,  1.000e+00,  2.505e-01,  3.290e+02],\n",
       "        [ 1.000e+00,  1.000e+00,  0.000e+00, -2.505e-01,  3.240e+02],\n",
       "        [ 0.000e+00,  4.395e-01,  4.978e-01,  2.505e-01,  3.140e+02]],\n",
       "       dtype=float16),\n",
       " array([[3.662e-01, 8.677e-01, 5.591e-01, 2.505e-01, 3.290e+02],\n",
       "        [1.837e-01, 8.677e-01, 6.646e-01, 2.505e-01, 2.940e+02],\n",
       "        [6.543e-01, 1.324e-01, 7.192e-01, 1.252e-01, 2.180e+02],\n",
       "        [0.000e+00, 7.075e-01, 9.697e-01, 2.505e-01, 2.540e+02],\n",
       "        [8.462e-01, 6.848e-02, 7.222e-01, 0.000e+00, 1.480e+02],\n",
       "        [1.837e-01, 6.440e-01, 9.214e-01, 1.252e-01, 1.970e+02],\n",
       "        [1.000e+00, 1.689e-01, 1.481e-01, 0.000e+00, 1.260e+02],\n",
       "        [4.614e-01, 8.447e-01, 0.000e+00, 1.252e-01, 2.070e+02],\n",
       "        [4.614e-01, 0.000e+00, 1.000e+00, 0.000e+00, 1.640e+02],\n",
       "        [4.915e-01, 1.781e-01, 9.458e-01, 0.000e+00, 1.750e+02],\n",
       "        [6.543e-01, 2.740e-02, 8.608e-01, 0.000e+00, 1.140e+02],\n",
       "        [3.340e-01, 4.702e-01, 8.491e-01, 1.252e-01, 2.250e+02],\n",
       "        [4.614e-01, 4.795e-01, 3.896e-01, 1.252e-01, 2.170e+02],\n",
       "        [4.614e-01, 4.246e-01, 4.412e-01, 1.252e-01, 2.010e+02],\n",
       "        [1.125e-01, 1.000e+00, 2.114e-01, 2.505e-01, 3.140e+02]],\n",
       "       dtype=float16),\n",
       " array([[ 1.000e+00,  1.000e+00,  0.000e+00, -2.505e-01,  3.240e+02],\n",
       "        [ 0.000e+00,  5.889e-01,  7.168e-01,  2.505e-01,  3.140e+02],\n",
       "        [ 1.403e-01,  0.000e+00,  1.000e+00,  2.505e-01,  3.610e+02]],\n",
       "       dtype=float16),\n",
       " array([[ 1.418e-01,  7.319e-01,  6.855e-01,  2.505e-01,  2.940e+02],\n",
       "        [ 5.054e-01,  0.000e+00,  7.412e-01,  1.252e-01,  2.180e+02],\n",
       "        [ 0.000e+00,  5.728e-01,  1.000e+00,  2.505e-01,  2.540e+02],\n",
       "        [ 3.564e-01,  7.090e-01,  0.000e+00,  1.252e-01,  2.070e+02],\n",
       "        [ 2.581e-01,  3.364e-01,  8.755e-01,  1.252e-01,  2.250e+02],\n",
       "        [ 3.564e-01,  3.455e-01,  4.019e-01,  1.252e-01,  2.170e+02],\n",
       "        [ 3.564e-01,  2.910e-01,  4.548e-01,  1.252e-01,  2.010e+02],\n",
       "        [ 8.685e-02,  8.638e-01,  2.180e-01,  2.505e-01,  3.140e+02],\n",
       "        [ 2.332e-01,  6.226e-01,  3.582e-01,  2.505e-01,  3.610e+02],\n",
       "        [ 1.000e+00,  1.000e+00,  9.344e-02, -2.505e-01,  2.460e+02]],\n",
       "       dtype=float16),\n",
       " array([[1.837e-01, 8.677e-01, 6.646e-01, 2.505e-01, 2.940e+02],\n",
       "        [6.543e-01, 1.324e-01, 7.192e-01, 1.252e-01, 2.180e+02],\n",
       "        [0.000e+00, 7.075e-01, 9.697e-01, 2.505e-01, 2.540e+02],\n",
       "        [8.462e-01, 6.848e-02, 7.222e-01, 0.000e+00, 1.480e+02],\n",
       "        [1.837e-01, 6.440e-01, 9.214e-01, 1.252e-01, 1.970e+02],\n",
       "        [1.000e+00, 1.689e-01, 1.481e-01, 0.000e+00, 1.260e+02],\n",
       "        [4.614e-01, 8.447e-01, 0.000e+00, 1.252e-01, 2.070e+02],\n",
       "        [4.614e-01, 0.000e+00, 1.000e+00, 0.000e+00, 1.640e+02],\n",
       "        [4.915e-01, 1.781e-01, 9.458e-01, 0.000e+00, 1.750e+02],\n",
       "        [6.543e-01, 2.740e-02, 8.608e-01, 0.000e+00, 1.140e+02],\n",
       "        [3.340e-01, 4.702e-01, 8.491e-01, 1.252e-01, 2.250e+02],\n",
       "        [4.614e-01, 4.795e-01, 3.896e-01, 1.252e-01, 2.170e+02],\n",
       "        [4.614e-01, 4.246e-01, 4.412e-01, 1.252e-01, 2.010e+02],\n",
       "        [1.125e-01, 1.000e+00, 2.114e-01, 2.505e-01, 3.140e+02],\n",
       "        [3.020e-01, 7.578e-01, 3.474e-01, 2.505e-01, 3.610e+02]],\n",
       "       dtype=float16),\n",
       " array([[ 1.000e+00,  1.000e+00,  0.000e+00, -2.505e-01,  3.240e+02],\n",
       "        [ 0.000e+00,  5.889e-01,  7.168e-01,  2.505e-01,  3.140e+02],\n",
       "        [ 1.403e-01,  0.000e+00,  1.000e+00,  2.505e-01,  3.610e+02]],\n",
       "       dtype=float16),\n",
       " array([[ 5.781e-01,  0.000e+00,  6.245e-01,  1.252e-01,  2.180e+02],\n",
       "        [ 1.467e-01,  5.728e-01,  8.423e-01,  2.505e-01,  2.540e+02],\n",
       "        [ 4.509e-01,  7.090e-01,  0.000e+00,  1.252e-01,  2.070e+02],\n",
       "        [ 3.669e-01,  3.364e-01,  7.373e-01,  1.252e-01,  2.250e+02],\n",
       "        [ 4.509e-01,  3.455e-01,  3.386e-01,  1.252e-01,  2.170e+02],\n",
       "        [ 4.509e-01,  2.910e-01,  3.833e-01,  1.252e-01,  2.010e+02],\n",
       "        [ 2.208e-01,  8.638e-01,  1.837e-01,  2.505e-01,  3.140e+02],\n",
       "        [ 3.457e-01,  6.226e-01,  3.018e-01,  2.505e-01,  3.610e+02],\n",
       "        [ 1.000e+00,  1.000e+00,  7.874e-02, -2.505e-01,  2.460e+02],\n",
       "        [ 0.000e+00,  4.092e-01,  1.000e+00,  3.757e-01,  2.630e+02]],\n",
       "       dtype=float16),\n",
       " array([[2.141e-01, 1.000e+00, 6.035e-01, 1.252e-01, 1.360e+02],\n",
       "        [7.173e-01, 1.193e-01, 6.245e-01, 1.252e-01, 2.180e+02],\n",
       "        [1.821e-01, 6.377e-01, 8.423e-01, 2.505e-01, 2.540e+02],\n",
       "        [8.740e-01, 6.174e-02, 6.274e-01, 0.000e+00, 1.480e+02],\n",
       "        [3.323e-01, 5.801e-01, 8.003e-01, 1.252e-01, 1.970e+02],\n",
       "        [1.000e+00, 1.522e-01, 1.287e-01, 0.000e+00, 1.260e+02],\n",
       "        [5.596e-01, 7.612e-01, 0.000e+00, 1.252e-01, 2.070e+02],\n",
       "        [5.596e-01, 0.000e+00, 8.687e-01, 0.000e+00, 1.640e+02],\n",
       "        [5.840e-01, 1.605e-01, 8.213e-01, 0.000e+00, 1.750e+02],\n",
       "        [7.173e-01, 2.469e-02, 7.480e-01, 0.000e+00, 1.140e+02],\n",
       "        [4.553e-01, 4.238e-01, 7.373e-01, 1.252e-01, 2.250e+02],\n",
       "        [5.596e-01, 4.321e-01, 3.386e-01, 1.252e-01, 2.170e+02],\n",
       "        [5.596e-01, 3.828e-01, 3.833e-01, 1.252e-01, 2.010e+02],\n",
       "        [2.742e-01, 9.014e-01, 1.837e-01, 2.505e-01, 3.140e+02],\n",
       "        [4.292e-01, 6.831e-01, 3.018e-01, 2.505e-01, 3.610e+02],\n",
       "        [6.074e-01, 5.640e-01, 4.883e-01, 1.252e-01, 1.360e+02],\n",
       "        [5.361e-01, 9.467e-02, 5.801e-01, 1.252e-01, 1.810e+02],\n",
       "        [0.000e+00, 4.897e-01, 1.000e+00, 3.757e-01, 2.630e+02]],\n",
       "       dtype=float16)]"
      ]
     },
     "execution_count": 171,
     "metadata": {},
     "output_type": "execute_result"
    }
   ],
   "source": [
    "# normalized_data"
   ]
  },
  {
   "cell_type": "code",
   "execution_count": 34,
   "metadata": {},
   "outputs": [],
   "source": [
    "files = [f for f in os.listdir(source_dir) if os.path.isfile(os.path.join(source_dir, f))]"
   ]
  },
  {
   "cell_type": "code",
   "execution_count": 35,
   "metadata": {},
   "outputs": [
    {
     "data": {
      "text/plain": [
       "90"
      ]
     },
     "execution_count": 35,
     "metadata": {},
     "output_type": "execute_result"
    }
   ],
   "source": [
    "len(files)"
   ]
  },
  {
   "cell_type": "code",
   "execution_count": 36,
   "metadata": {},
   "outputs": [],
   "source": [
    "# for f in files:\n",
    "#     file_path =  os.path.join(source_dir, f)\n",
    "#     try:\n",
    "#         with open(file_path, 'rb') as file_in:\n",
    "#             data = pickle.load(file_in)\n",
    "\n",
    "#         normalized_data = normalizeNestedArrays(data)\n",
    "        \n",
    "#         with open(file_path, 'wb') as file_out:\n",
    "#             pickle.dump(normalized_data, file_out)\n",
    "#     except Exception as e:\n",
    "#         print(f\"An error has occured while processing file {f}: {e}\")\n",
    "\n",
    "                "
   ]
  },
  {
   "cell_type": "code",
   "execution_count": 37,
   "metadata": {},
   "outputs": [
    {
     "name": "stdout",
     "output_type": "stream",
     "text": [
      "72\n"
     ]
    }
   ],
   "source": [
    "random.seed(42)\n",
    "random.shuffle(files)\n",
    "\n",
    "train_ratio = 0.8\n",
    "split_index = int(train_ratio * len(files))\n",
    "train_files = files[:split_index]\n",
    "test_files = files[split_index:]\n",
    "print(split_index)"
   ]
  },
  {
   "cell_type": "code",
   "execution_count": 38,
   "metadata": {},
   "outputs": [],
   "source": [
    "\n",
    "for file in train_files:\n",
    "    shutil.move(os.path.join(source_dir, file), os.path.join(train_dir, file))\n",
    "\n",
    "for file in test_files:\n",
    "    shutil.move(os.path.join(source_dir, file), os.path.join(test_dir, file))"
   ]
  },
  {
   "cell_type": "code",
   "execution_count": null,
   "metadata": {},
   "outputs": [],
   "source": []
  }
 ],
 "metadata": {
  "kernelspec": {
   "display_name": "Python 3",
   "language": "python",
   "name": "python3"
  },
  "language_info": {
   "codemirror_mode": {
    "name": "ipython",
    "version": 3
   },
   "file_extension": ".py",
   "mimetype": "text/x-python",
   "name": "python",
   "nbconvert_exporter": "python",
   "pygments_lexer": "ipython3",
   "version": "3.10.12"
  }
 },
 "nbformat": 4,
 "nbformat_minor": 2
}
