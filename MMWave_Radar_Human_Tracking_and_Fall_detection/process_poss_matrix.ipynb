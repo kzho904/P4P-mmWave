{
 "cells": [
  {
   "cell_type": "code",
   "execution_count": 26,
   "metadata": {},
   "outputs": [],
   "source": [
    "import os\n",
    "import shutil\n",
    "import random\n",
    "import numpy as np\n",
    "import pickle"
   ]
  },
  {
   "cell_type": "code",
   "execution_count": 27,
   "metadata": {},
   "outputs": [
    {
     "name": "stdout",
     "output_type": "stream",
     "text": [
      "/Users/katiezhou/P4P-mmWave/MMWave_Radar_Human_Tracking_and_Fall_detection\n"
     ]
    }
   ],
   "source": [
    "base_dir = os.getcwd()\n",
    "print(base_dir)"
   ]
  },
  {
   "cell_type": "code",
   "execution_count": 28,
   "metadata": {},
   "outputs": [
    {
     "name": "stdout",
     "output_type": "stream",
     "text": [
      "/Users/katiezhou/P4P-mmWave/MMWave_Radar_Human_Tracking_and_Fall_detection/cluster_data/padded/jumping\n",
      "train_dir is: /Users/katiezhou/P4P-mmWave/MMWave_Radar_Human_Tracking_and_Fall_detection/cluster_data/padded/jumping/train\n",
      "test_dir is: /Users/katiezhou/P4P-mmWave/MMWave_Radar_Human_Tracking_and_Fall_detection/cluster_data/padded/jumping/test\n"
     ]
    }
   ],
   "source": [
    "data_dir = \"cluster_data/padded/jumping\"\n",
    "source_dir = os.path.join(base_dir, data_dir)\n",
    "print(source_dir)\n",
    "train_dir = f\"{source_dir}/train\"\n",
    "test_dir = f\"{source_dir}/test\"\n",
    "print(f\"train_dir is: {train_dir}\")\n",
    "print(f\"test_dir is: {test_dir}\")"
   ]
  },
  {
   "cell_type": "code",
   "execution_count": 29,
   "metadata": {},
   "outputs": [
    {
     "name": "stdout",
     "output_type": "stream",
     "text": [
      "Directory already exists: /Users/katiezhou/P4P-mmWave/MMWave_Radar_Human_Tracking_and_Fall_detection/cluster_data/padded/jumping/train\n",
      "Directory already exists: /Users/katiezhou/P4P-mmWave/MMWave_Radar_Human_Tracking_and_Fall_detection/cluster_data/padded/jumping/test\n"
     ]
    }
   ],
   "source": [
    "try:\n",
    "    if not os.path.exists(train_dir):\n",
    "        os.makedirs(train_dir)\n",
    "    else:\n",
    "        print(f\"Directory already exists: {train_dir}\")\n",
    "        \n",
    "    if not os.path.exists(test_dir):\n",
    "        os.makedirs(test_dir)\n",
    "    else:\n",
    "        print(f\"Directory already exists: {test_dir}\")\n",
    "except PermissionError:\n",
    "    print(f\"Permission denied: unable to create directory {train_dir}\")\n",
    "except OSError as e:\n",
    "    print(f\"OS error: {e}\")"
   ]
  },
  {
   "cell_type": "code",
   "execution_count": 4,
   "metadata": {},
   "outputs": [],
   "source": [
    "# def normalizeArray(array):\n",
    "#     xyz = array[:,:3]\n",
    "#     rest = array[:,3:]\n",
    "\n",
    "#     min_vals = xyz.min(axis=0)\n",
    "#     max_vals = xyz.max(axis=0)\n",
    "#     normalized_xyz = (xyz - min_vals) / (max_vals - min_vals)\n",
    "\n",
    "#     normalized_data = np.hstack((normalized_xyz, rest))\n",
    "#     return normalized_data"
   ]
  },
  {
   "cell_type": "code",
   "execution_count": 166,
   "metadata": {},
   "outputs": [],
   "source": [
    "# def normalizeNestedArrays(nested_arrays):\n",
    "#     normalized_arrays = []\n",
    "#     for array in nested_arrays:\n",
    "#         normalized_array = normalizeArray(array)\n",
    "#         normalized_arrays.append(normalized_array)\n",
    "#     return normalized_arrays"
   ]
  },
  {
   "cell_type": "code",
   "execution_count": null,
   "metadata": {},
   "outputs": [],
   "source": [
    "def standardizeArray(array):\n",
    "    xyz = array[:,:3]\n",
    "    rest = array[:,3:]\n",
    "\n",
    "    # Calculate the mean and standard deviation for the xyz coordinates\n",
    "    xyz_mean = np.mean(xyz, axis=0)\n",
    "    xyz_std = np.std(xyz, axis=0)\n",
    "    \n",
    "    # Standardizing the xyz coordinates\n",
    "    standardized_xyz = (xyz - xyz_mean) / xyz_std\n",
    "    \n",
    "    # Recombining the standardized xyz with the rest of the array\n",
    "    standardized_array = np.concatenate([standardized_xyz, rest], axis=1)\n",
    "    \n",
    "    return standardized_array"
   ]
  },
  {
   "cell_type": "code",
   "execution_count": 20,
   "metadata": {},
   "outputs": [
    {
     "ename": "FileNotFoundError",
     "evalue": "[Errno 2] No such file or directory: 'sd_3_class_data/walking/point_taken_poss_matrix0.pkl'",
     "output_type": "error",
     "traceback": [
      "\u001b[0;31m---------------------------------------------------------------------------\u001b[0m",
      "\u001b[0;31mFileNotFoundError\u001b[0m                         Traceback (most recent call last)",
      "Cell \u001b[0;32mIn[20], line 3\u001b[0m\n\u001b[1;32m      1\u001b[0m file \u001b[38;5;241m=\u001b[39m\u001b[38;5;124m\"\u001b[39m\u001b[38;5;124msd_3_class_data/walking/point_taken_poss_matrix0.pkl\u001b[39m\u001b[38;5;124m\"\u001b[39m\n\u001b[1;32m      2\u001b[0m \u001b[38;5;66;03m# Load the data from the pickle file\u001b[39;00m\n\u001b[0;32m----> 3\u001b[0m \u001b[38;5;28;01mwith\u001b[39;00m \u001b[38;5;28;43mopen\u001b[39;49m\u001b[43m(\u001b[49m\u001b[43mfile\u001b[49m\u001b[43m,\u001b[49m\u001b[43m \u001b[49m\u001b[38;5;124;43m'\u001b[39;49m\u001b[38;5;124;43mrb\u001b[39;49m\u001b[38;5;124;43m'\u001b[39;49m\u001b[43m)\u001b[49m \u001b[38;5;28;01mas\u001b[39;00m file:\n\u001b[1;32m      4\u001b[0m     data \u001b[38;5;241m=\u001b[39m pickle\u001b[38;5;241m.\u001b[39mload(file)\n\u001b[1;32m      6\u001b[0m data\n",
      "File \u001b[0;32m~/mambaforge/envs/py38/lib/python3.10/site-packages/IPython/core/interactiveshell.py:284\u001b[0m, in \u001b[0;36m_modified_open\u001b[0;34m(file, *args, **kwargs)\u001b[0m\n\u001b[1;32m    277\u001b[0m \u001b[38;5;28;01mif\u001b[39;00m file \u001b[38;5;129;01min\u001b[39;00m {\u001b[38;5;241m0\u001b[39m, \u001b[38;5;241m1\u001b[39m, \u001b[38;5;241m2\u001b[39m}:\n\u001b[1;32m    278\u001b[0m     \u001b[38;5;28;01mraise\u001b[39;00m \u001b[38;5;167;01mValueError\u001b[39;00m(\n\u001b[1;32m    279\u001b[0m         \u001b[38;5;124mf\u001b[39m\u001b[38;5;124m\"\u001b[39m\u001b[38;5;124mIPython won\u001b[39m\u001b[38;5;124m'\u001b[39m\u001b[38;5;124mt let you open fd=\u001b[39m\u001b[38;5;132;01m{\u001b[39;00mfile\u001b[38;5;132;01m}\u001b[39;00m\u001b[38;5;124m by default \u001b[39m\u001b[38;5;124m\"\u001b[39m\n\u001b[1;32m    280\u001b[0m         \u001b[38;5;124m\"\u001b[39m\u001b[38;5;124mas it is likely to crash IPython. If you know what you are doing, \u001b[39m\u001b[38;5;124m\"\u001b[39m\n\u001b[1;32m    281\u001b[0m         \u001b[38;5;124m\"\u001b[39m\u001b[38;5;124myou can use builtins\u001b[39m\u001b[38;5;124m'\u001b[39m\u001b[38;5;124m open.\u001b[39m\u001b[38;5;124m\"\u001b[39m\n\u001b[1;32m    282\u001b[0m     )\n\u001b[0;32m--> 284\u001b[0m \u001b[38;5;28;01mreturn\u001b[39;00m \u001b[43mio_open\u001b[49m\u001b[43m(\u001b[49m\u001b[43mfile\u001b[49m\u001b[43m,\u001b[49m\u001b[43m \u001b[49m\u001b[38;5;241;43m*\u001b[39;49m\u001b[43margs\u001b[49m\u001b[43m,\u001b[49m\u001b[43m \u001b[49m\u001b[38;5;241;43m*\u001b[39;49m\u001b[38;5;241;43m*\u001b[39;49m\u001b[43mkwargs\u001b[49m\u001b[43m)\u001b[49m\n",
      "\u001b[0;31mFileNotFoundError\u001b[0m: [Errno 2] No such file or directory: 'sd_3_class_data/walking/point_taken_poss_matrix0.pkl'"
     ]
    }
   ],
   "source": [
    "file =\"sd_3_class_data/walking/point_taken_poss_matrix0.pkl\"\n",
    "# Load the data from the pickle file\n",
    "with open(file, 'rb') as file:\n",
    "    data = pickle.load(file)\n",
    "\n",
    "data"
   ]
  },
  {
   "cell_type": "code",
   "execution_count": 30,
   "metadata": {},
   "outputs": [],
   "source": [
    "files = [f for f in os.listdir(source_dir) if os.path.isfile(os.path.join(source_dir, f))]"
   ]
  },
  {
   "cell_type": "code",
   "execution_count": 31,
   "metadata": {},
   "outputs": [
    {
     "data": {
      "text/plain": [
       "200"
      ]
     },
     "execution_count": 31,
     "metadata": {},
     "output_type": "execute_result"
    }
   ],
   "source": [
    "len(files)"
   ]
  },
  {
   "cell_type": "code",
   "execution_count": 32,
   "metadata": {},
   "outputs": [
    {
     "name": "stdout",
     "output_type": "stream",
     "text": [
      "160\n"
     ]
    }
   ],
   "source": [
    "random.seed(42)\n",
    "random.shuffle(files)\n",
    "\n",
    "train_ratio = 0.8\n",
    "split_index = int(train_ratio * len(files))\n",
    "train_files = files[:split_index]\n",
    "test_files = files[split_index:]\n",
    "print(split_index)"
   ]
  },
  {
   "cell_type": "code",
   "execution_count": 33,
   "metadata": {},
   "outputs": [],
   "source": [
    "for file in train_files:\n",
    "    shutil.move(os.path.join(source_dir, file), os.path.join(train_dir, file))\n",
    "\n",
    "for file in test_files:\n",
    "    shutil.move(os.path.join(source_dir, file), os.path.join(test_dir, file))"
   ]
  },
  {
   "cell_type": "code",
   "execution_count": null,
   "metadata": {},
   "outputs": [],
   "source": []
  }
 ],
 "metadata": {
  "kernelspec": {
   "display_name": "Python 3",
   "language": "python",
   "name": "python3"
  },
  "language_info": {
   "codemirror_mode": {
    "name": "ipython",
    "version": 3
   },
   "file_extension": ".py",
   "mimetype": "text/x-python",
   "name": "python",
   "nbconvert_exporter": "python",
   "pygments_lexer": "ipython3",
   "version": "3.10.12"
  }
 },
 "nbformat": 4,
 "nbformat_minor": 2
}
