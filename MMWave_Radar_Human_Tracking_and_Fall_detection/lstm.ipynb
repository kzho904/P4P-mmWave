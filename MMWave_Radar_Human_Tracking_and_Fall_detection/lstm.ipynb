{
 "cells": [
  {
   "cell_type": "code",
   "execution_count": 6,
   "metadata": {},
   "outputs": [],
   "source": [
    "import numpy as np\n",
    "import pandas as pd\n",
    "import matplotlib.pyplot\n",
    "import seaborn as sns\n",
    "import tensorflow as tf\n",
    "import keras\n",
    "from sklearn.model_selection import train_test_split\n",
    "from tensorflow.python.keras.layers.convolutional import Conv1D, MaxPooling1D\n",
    "from keras.models import Sequential\n",
    "from keras.layers import Dense\n",
    "from keras.layers import Flatten\n",
    "from keras.layers import Dropout\n",
    "from keras.layers import LSTM\n",
    "from keras.layers import TimeDistributed\n",
    "from keras.layers import ConvLSTM2D\n",
    "from keras.utils import to_categorical\n",
    "import pickle\n",
    "import os\n",
    "import NN\n",
    "\n",
    "import dataset_utils\n",
    "import importlib\n",
    "import matplotlib\n",
    "import numpy as np\n",
    "from matplotlib import pyplot as plt\n",
    "from matplotlib.ticker import LinearLocator\n",
    "import tensorflow as tf\n",
    "from tensorflow import keras\n",
    "from tensorflow.keras import layers\n",
    "from tensorflow.keras import Input, Model\n",
    "from tensorflow.keras.layers import Conv2D, MaxPooling2D, Dense, Flatten, Conv3D, MaxPooling3D, Embedding, LSTM, Bidirectional, Reshape, Concatenate\n",
    "import tensorflow as tf\n",
    "from tensorflow.keras import layers, models"
   ]
  },
  {
   "cell_type": "code",
   "execution_count": 2,
   "metadata": {},
   "outputs": [],
   "source": [
    "import dataset_utils\n",
    "from glob import glob"
   ]
  },
  {
   "cell_type": "code",
   "execution_count": 3,
   "metadata": {},
   "outputs": [
    {
     "name": "stdout",
     "output_type": "stream",
     "text": [
      "processing class: jumping\n",
      "processing class: speed_walking\n",
      "processing class: walking\n"
     ]
    }
   ],
   "source": [
    "DATA_DIR = \"data/entire_field_raw_3_class\"\n",
    "NUM_POINTS = 100\n",
    "NUM_CLASSES = 3\n",
    "BATCH_SIZE = 32\n",
    "train_points, test_points, train_labels, test_labels, CLASS_MAP = dataset_utils.parse_dataset(NUM_POINTS, DATA_DIR)"
   ]
  },
  {
   "cell_type": "code",
   "execution_count": 7,
   "metadata": {},
   "outputs": [
    {
     "name": "stdout",
     "output_type": "stream",
     "text": [
      "Model: \"sequential\"\n",
      "_________________________________________________________________\n",
      " Layer (type)                Output Shape              Param #   \n",
      "=================================================================\n",
      " lstm_1 (LSTM)               (None, 64)                17920     \n",
      "                                                                 \n",
      " dense (Dense)               (None, 32)                2080      \n",
      "                                                                 \n",
      " dense_1 (Dense)             (None, 3)                 99        \n",
      "                                                                 \n",
      "=================================================================\n",
      "Total params: 20099 (78.51 KB)\n",
      "Trainable params: 20099 (78.51 KB)\n",
      "Non-trainable params: 0 (0.00 Byte)\n",
      "_________________________________________________________________\n"
     ]
    }
   ],
   "source": [
    "# Define the input shape: (sequence_length, num_features)\n",
    "sequence_length = 100  # Example fixed sequence length\n",
    "num_features = 5  # 5 input features (x pos, y pos, z pos, energy strength, speed)\n",
    "num_classes = 3  # Number of classes for classification\n",
    "\n",
    "# Define the LSTM model\n",
    "model = models.Sequential()\n",
    "\n",
    "# LSTM layer\n",
    "model.add(layers.LSTM(64, input_shape=(sequence_length, num_features), return_sequences=False))\n",
    "\n",
    "# Fully connected (Dense) layer\n",
    "model.add(layers.Dense(32, activation='relu'))\n",
    "\n",
    "# Output layer with Softmax activation for multi-class classification\n",
    "model.add(layers.Dense(num_classes, activation='softmax'))\n",
    "\n",
    "# Compile the model\n",
    "model.compile(optimizer='adam', loss='sparse_categorical_crossentropy', metrics=['accuracy'])\n",
    "\n",
    "# Summary of the model\n",
    "model.summary()"
   ]
  },
  {
   "cell_type": "code",
   "execution_count": 13,
   "metadata": {},
   "outputs": [
    {
     "name": "stdout",
     "output_type": "stream",
     "text": [
      "Epoch 1/30\n",
      "45/45 [==============================] - 2s 37ms/step - loss: 0.4265 - accuracy: 0.8144 - val_loss: 0.5983 - val_accuracy: 0.7768\n",
      "Epoch 2/30\n",
      "45/45 [==============================] - 1s 24ms/step - loss: 0.4098 - accuracy: 0.8265 - val_loss: 0.5373 - val_accuracy: 0.7825\n",
      "Epoch 3/30\n",
      "45/45 [==============================] - 1s 24ms/step - loss: 0.4390 - accuracy: 0.8059 - val_loss: 0.6790 - val_accuracy: 0.7232\n",
      "Epoch 4/30\n",
      "45/45 [==============================] - 1s 25ms/step - loss: 0.5183 - accuracy: 0.7705 - val_loss: 0.5671 - val_accuracy: 0.7853\n",
      "Epoch 5/30\n",
      "45/45 [==============================] - 1s 26ms/step - loss: 0.4087 - accuracy: 0.8272 - val_loss: 0.5605 - val_accuracy: 0.7938\n"
     ]
    }
   ],
   "source": [
    "from tensorflow.keras.callbacks import EarlyStopping\n",
    "early_stopping = EarlyStopping(monitor='val_loss', patience=3)\n",
    "history = model.fit(train_points, train_labels, epochs=30, validation_data=(test_points, test_labels), verbose=1, callbacks=[early_stopping])"
   ]
  },
  {
   "cell_type": "code",
   "execution_count": 11,
   "metadata": {},
   "outputs": [
    {
     "name": "stdout",
     "output_type": "stream",
     "text": [
      "Epoch 1/20\n",
      "45/45 [==============================] - 1s 25ms/step - loss: 0.6306 - accuracy: 0.7146\n",
      "Epoch 2/20\n",
      "45/45 [==============================] - 1s 23ms/step - loss: 0.6353 - accuracy: 0.7203\n",
      "Epoch 3/20\n",
      "45/45 [==============================] - 1s 22ms/step - loss: 0.5518 - accuracy: 0.7613\n",
      "Epoch 4/20\n",
      "45/45 [==============================] - 1s 21ms/step - loss: 0.5430 - accuracy: 0.7564\n",
      "Epoch 5/20\n",
      "45/45 [==============================] - 1s 22ms/step - loss: 0.5421 - accuracy: 0.7712\n",
      "Epoch 6/20\n",
      "45/45 [==============================] - 1s 22ms/step - loss: 0.5574 - accuracy: 0.7472\n",
      "Epoch 7/20\n",
      "45/45 [==============================] - 1s 22ms/step - loss: 0.5401 - accuracy: 0.7698\n",
      "Epoch 8/20\n",
      "45/45 [==============================] - 1s 23ms/step - loss: 0.4960 - accuracy: 0.7897\n",
      "Epoch 9/20\n",
      "45/45 [==============================] - 1s 25ms/step - loss: 0.4957 - accuracy: 0.7826\n",
      "Epoch 10/20\n",
      "45/45 [==============================] - 1s 23ms/step - loss: 0.4715 - accuracy: 0.8024\n",
      "Epoch 11/20\n",
      "45/45 [==============================] - 1s 23ms/step - loss: 0.4928 - accuracy: 0.7868\n",
      "Epoch 12/20\n",
      "45/45 [==============================] - 1s 22ms/step - loss: 0.5019 - accuracy: 0.7911\n",
      "Epoch 13/20\n",
      "45/45 [==============================] - 1s 23ms/step - loss: 0.4870 - accuracy: 0.7847\n",
      "Epoch 14/20\n",
      "45/45 [==============================] - 1s 28ms/step - loss: 0.4507 - accuracy: 0.8152\n",
      "Epoch 15/20\n",
      "45/45 [==============================] - 2s 35ms/step - loss: 0.4430 - accuracy: 0.8166\n",
      "Epoch 16/20\n",
      "45/45 [==============================] - 2s 36ms/step - loss: 0.4380 - accuracy: 0.8102\n",
      "Epoch 17/20\n",
      "45/45 [==============================] - 2s 35ms/step - loss: 0.4565 - accuracy: 0.8031\n",
      "Epoch 18/20\n",
      "45/45 [==============================] - 2s 35ms/step - loss: 0.4375 - accuracy: 0.8144\n",
      "Epoch 19/20\n",
      "45/45 [==============================] - 2s 36ms/step - loss: 0.4296 - accuracy: 0.8144\n",
      "Epoch 20/20\n",
      "45/45 [==============================] - 2s 37ms/step - loss: 0.4280 - accuracy: 0.8244\n"
     ]
    },
    {
     "data": {
      "text/plain": [
       "<keras.src.callbacks.History at 0x235d30cb510>"
      ]
     },
     "execution_count": 11,
     "metadata": {},
     "output_type": "execute_result"
    }
   ],
   "source": [
    "# Example training\n",
    "model.fit(train_points, train_labels, epochs=20, batch_size=32)"
   ]
  },
  {
   "cell_type": "code",
   "execution_count": 14,
   "metadata": {},
   "outputs": [
    {
     "name": "stdout",
     "output_type": "stream",
     "text": [
      "12/12 [==============================] - 0s 10ms/step\n",
      "Confusion Matrix:\n",
      "[[ 92   0   3]\n",
      " [  3 176  11]\n",
      " [  9  47  13]]\n",
      "Classification Report:\n",
      "              precision    recall  f1-score   support\n",
      "\n",
      "           0       0.88      0.97      0.92        95\n",
      "           1       0.79      0.93      0.85       190\n",
      "           2       0.48      0.19      0.27        69\n",
      "\n",
      "    accuracy                           0.79       354\n",
      "   macro avg       0.72      0.69      0.68       354\n",
      "weighted avg       0.75      0.79      0.76       354\n",
      "\n",
      "Test Accuracy: 0.7938\n"
     ]
    }
   ],
   "source": [
    "import numpy as np\n",
    "from sklearn.metrics import confusion_matrix, classification_report, accuracy_score\n",
    "\n",
    "# Make predictions on the test set\n",
    "predictions = model.predict(test_points)\n",
    "\n",
    "# Convert probabilities to predicted class labels (0, 1, or 2)\n",
    "predicted_classes = np.argmax(predictions, axis=1)\n",
    "\n",
    "# Compute the confusion matrix\n",
    "conf_matrix = confusion_matrix(test_labels, predicted_classes)\n",
    "print(\"Confusion Matrix:\")\n",
    "print(conf_matrix)\n",
    "\n",
    "# Classification report\n",
    "class_report = classification_report(test_labels, predicted_classes)\n",
    "print(\"Classification Report:\")\n",
    "print(class_report)\n",
    "\n",
    "# Evaluate the model's accuracy\n",
    "accuracy = accuracy_score(test_labels, predicted_classes)\n",
    "print(f\"Test Accuracy: {accuracy:.4f}\")\n"
   ]
  }
 ],
 "metadata": {
  "kernelspec": {
   "display_name": "base",
   "language": "python",
   "name": "python3"
  },
  "language_info": {
   "codemirror_mode": {
    "name": "ipython",
    "version": 3
   },
   "file_extension": ".py",
   "mimetype": "text/x-python",
   "name": "python",
   "nbconvert_exporter": "python",
   "pygments_lexer": "ipython3",
   "version": "3.11.4"
  }
 },
 "nbformat": 4,
 "nbformat_minor": 2
}
