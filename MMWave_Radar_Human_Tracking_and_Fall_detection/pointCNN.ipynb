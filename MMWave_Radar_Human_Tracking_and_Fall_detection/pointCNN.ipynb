{
 "cells": [
  {
   "cell_type": "code",
   "execution_count": 7,
   "metadata": {},
   "outputs": [],
   "source": [
    "import tensorflow as tf\n",
    "from tensorflow.keras import layers, models\n",
    "from glob import glob"
   ]
  },
  {
   "cell_type": "code",
   "execution_count": 2,
   "metadata": {},
   "outputs": [],
   "source": [
    "import numpy as np\n",
    "import pandas as pd\n",
    "import matplotlib.pyplot\n",
    "import seaborn as sns\n",
    "import tensorflow as tf\n",
    "import keras\n",
    "from sklearn.model_selection import train_test_split\n",
    "from tensorflow.python.keras.layers.convolutional import Conv1D, MaxPooling1D\n",
    "from keras.models import Sequential\n",
    "from keras.layers import Dense\n",
    "from keras.layers import Flatten\n",
    "from keras.layers import Dropout\n",
    "from keras.layers import LSTM\n",
    "from keras.layers import TimeDistributed\n",
    "from keras.layers import ConvLSTM2D\n",
    "from keras.utils import to_categorical\n",
    "import pickle\n",
    "import os\n",
    "import NN\n",
    "\n",
    "import dataset_utils\n",
    "import importlib\n",
    "import matplotlib\n",
    "import numpy as np\n",
    "from matplotlib import pyplot as plt\n",
    "from matplotlib.ticker import LinearLocator\n",
    "import tensorflow as tf\n",
    "from tensorflow import keras\n",
    "from tensorflow.keras import layers\n",
    "from tensorflow.keras import Input, Model\n",
    "from tensorflow.keras.layers import Conv2D, MaxPooling2D, Dense, Flatten, Conv3D, MaxPooling3D, Embedding, LSTM, Bidirectional, Reshape, Concatenate"
   ]
  },
  {
   "cell_type": "code",
   "execution_count": 9,
   "metadata": {},
   "outputs": [],
   "source": [
    "def parse_dataset(num_points, DATA_DIR):\n",
    "    train_points = []\n",
    "    train_labels = []\n",
    "    test_points = []\n",
    "    test_labels = []\n",
    "    class_map = {}\n",
    "    folders = glob(os.path.join(DATA_DIR, \"[!README]*\"))\n",
    "\n",
    "    for i, folder in enumerate(folders):\n",
    "        print(\"processing class: {}\".format(os.path.basename(folder)))\n",
    "        # store folder name with ID so we can retrieve later\n",
    "        class_map[i] = folder.split(\"/\")[-1]\n",
    "        # gather all files\n",
    "        train_files = glob(os.path.join(folder, \"train/*\"))\n",
    "        test_files = glob(os.path.join(folder, \"test/*\"))\n",
    "\n",
    "        all_train_points=[]\n",
    "        for f in train_files:\n",
    "            with open(f, 'rb') as file:\n",
    "                data = pickle.load(file)\n",
    "                all_train_points.append(data)\n",
    "                \n",
    "                concatenated_train_points = np.concatenate(all_train_points, axis=0)\n",
    "                sampled_indices = np.random.choice(concatenated_train_points.shape[0], size=num_points, replace=True)\n",
    "                sampled_data = concatenated_train_points[sampled_indices].astype(np.float16)\n",
    "                train_points.append(sampled_data)\n",
    "                train_labels.append(i)\n",
    "               \n",
    "        all_test_points = []\n",
    "        for f in test_files:\n",
    "            with open(f, 'rb') as file:\n",
    "                data = pickle.load(file)\n",
    "                all_test_points.append(data)\n",
    "                \n",
    "                concatenated_test_points = np.concatenate(all_test_points, axis=0)\n",
    "                sampled_indices = np.random.choice(concatenated_test_points.shape[0], size=num_points, replace=True)\n",
    "                sampled_data = concatenated_test_points[sampled_indices].astype(np.float16)\n",
    "                test_points.append(sampled_data)\n",
    "                test_labels.append(i)\n",
    "    return (\n",
    "        np.array(train_points),\n",
    "        np.array(test_points),\n",
    "        np.array(train_labels),\n",
    "        np.array(test_labels),\n",
    "        class_map,\n",
    "    )"
   ]
  },
  {
   "cell_type": "code",
   "execution_count": 39,
   "metadata": {},
   "outputs": [
    {
     "name": "stdout",
     "output_type": "stream",
     "text": [
      "processing class: jumping\n"
     ]
    }
   ],
   "source": [
    "DATA_DIR = \"cluster_data/3_class_data\"\n",
    "NUM_POINTS = 100\n",
    "NUM_FRAMES = 3\n",
    "NUM_CLASSES = 3\n",
    "BATCH_SIZE = 32\n",
    "train_points, test_points, train_labels, test_labels, CLASS_MAP = dataset_utils.parse_dataset(NUM_POINTS, DATA_DIR)\n",
    "\n",
    "# Verify the shapes\n",
    "print(f\"train_points shape: {train_points.shape}\")\n",
    "print(f\"test_points shape: {test_points.shape}\")\n",
    "print(f\"train_labels shape: {np.array(train_labels).shape}\")\n",
    "print(f\"test_labels shape: {np.array(test_labels).shape}\")"
   ]
  },
  {
   "cell_type": "code",
   "execution_count": 21,
   "metadata": {},
   "outputs": [],
   "source": [
    "keras.utils.set_random_seed(seed=42)"
   ]
  },
  {
   "cell_type": "code",
   "execution_count": 22,
   "metadata": {},
   "outputs": [
    {
     "name": "stdout",
     "output_type": "stream",
     "text": [
      "(652, 100, 5)\n"
     ]
    }
   ],
   "source": [
    "print(train_points.shape)"
   ]
  },
  {
   "cell_type": "code",
   "execution_count": 23,
   "metadata": {},
   "outputs": [],
   "source": [
    "def ConvBlock(x, filters, kernel_size=1, stride=1, padding='valid'):\n",
    "    \"\"\"Convolutional Block with Batch Normalization and ReLU activation.\"\"\"\n",
    "    x = layers.Conv2D(filters, kernel_size, strides=stride, padding=padding)(x)\n",
    "    x = layers.BatchNormalization()(x)\n",
    "    x = layers.ReLU()(x)\n",
    "    return x"
   ]
  },
  {
   "cell_type": "code",
   "execution_count": 24,
   "metadata": {},
   "outputs": [],
   "source": [
    "\n",
    "# Input layer for point cloud data\n",
    "\n",
    "input_shape = (NUM_POINTS, 5)\n",
    "num_classes = NUM_CLASSES\n",
    "inputs = layers.Input(shape=input_shape)\n",
    "\n",
    "# Expand dimensions for point-wise convolution\n",
    "x = layers.Lambda(lambda x: tf.expand_dims(x, axis=-1))(inputs)\n",
    "\n",
    "# Convolutional Layers\n",
    "x = ConvBlock(x, filters=64, kernel_size=(1, input_shape[1]))\n",
    "x = ConvBlock(x, filters=128, kernel_size=(1, 1))\n",
    "x = ConvBlock(x, filters=256, kernel_size=(1, 1))\n",
    "\n",
    "# Global Feature Aggregation\n",
    "x = layers.GlobalMaxPooling2D()(x)\n",
    "\n",
    "# Fully connected layers for classification\n",
    "x = layers.Dense(256, activation='relu')(x)\n",
    "x = layers.Dropout(0.3)(x)\n",
    "x = layers.Dense(128, activation='relu')(x)\n",
    "x = layers.Dropout(0.3)(x)\n",
    "\n",
    "# Output layer with softmax for classification\n",
    "outputs = layers.Dense(num_classes, activation='softmax')(x)\n",
    "\n",
    "# Build model\n",
    "model = models.Model(inputs=inputs, outputs=outputs)\n",
    "\n"
   ]
  },
  {
   "cell_type": "code",
   "execution_count": 25,
   "metadata": {},
   "outputs": [
    {
     "name": "stdout",
     "output_type": "stream",
     "text": [
      "Model: \"model_1\"\n"
     ]
    },
    {
     "name": "stdout",
     "output_type": "stream",
     "text": [
      "_________________________________________________________________\n",
      " Layer (type)                Output Shape              Param #   \n",
      "=================================================================\n",
      " input_2 (InputLayer)        [(None, 100, 5)]          0         \n",
      "                                                                 \n",
      " lambda_1 (Lambda)           (None, 100, 5, 1)         0         \n",
      "                                                                 \n",
      " conv2d_3 (Conv2D)           (None, 100, 1, 64)        384       \n",
      "                                                                 \n",
      " batch_normalization_3 (Bat  (None, 100, 1, 64)        256       \n",
      " chNormalization)                                                \n",
      "                                                                 \n",
      " re_lu_3 (ReLU)              (None, 100, 1, 64)        0         \n",
      "                                                                 \n",
      " conv2d_4 (Conv2D)           (None, 100, 1, 128)       8320      \n",
      "                                                                 \n",
      " batch_normalization_4 (Bat  (None, 100, 1, 128)       512       \n",
      " chNormalization)                                                \n",
      "                                                                 \n",
      " re_lu_4 (ReLU)              (None, 100, 1, 128)       0         \n",
      "                                                                 \n",
      " conv2d_5 (Conv2D)           (None, 100, 1, 256)       33024     \n",
      "                                                                 \n",
      " batch_normalization_5 (Bat  (None, 100, 1, 256)       1024      \n",
      " chNormalization)                                                \n",
      "                                                                 \n",
      " re_lu_5 (ReLU)              (None, 100, 1, 256)       0         \n",
      "                                                                 \n",
      " global_max_pooling2d_1 (Gl  (None, 256)               0         \n",
      " obalMaxPooling2D)                                               \n",
      "                                                                 \n",
      " dense_3 (Dense)             (None, 256)               65792     \n",
      "                                                                 \n",
      " dropout_2 (Dropout)         (None, 256)               0         \n",
      "                                                                 \n",
      " dense_4 (Dense)             (None, 128)               32896     \n",
      "                                                                 \n",
      " dropout_3 (Dropout)         (None, 128)               0         \n",
      "                                                                 \n",
      " dense_5 (Dense)             (None, 2)                 258       \n",
      "                                                                 \n",
      "=================================================================\n",
      "Total params: 142466 (556.51 KB)\n",
      "Trainable params: 141570 (553.01 KB)\n",
      "Non-trainable params: 896 (3.50 KB)\n",
      "_________________________________________________________________\n"
     ]
    }
   ],
   "source": [
    "model.compile(optimizer='adam', loss='sparse_categorical_crossentropy', metrics=['accuracy'])\n",
    "model.summary()"
   ]
  },
  {
   "cell_type": "code",
   "execution_count": 36,
   "metadata": {},
   "outputs": [
    {
     "name": "stdout",
     "output_type": "stream",
     "text": [
      "Epoch 1/30\n",
      "21/21 [==============================] - 0s 19ms/step - loss: 0.0145 - accuracy: 0.9954 - val_loss: 5.2237 - val_accuracy: 0.4207\n",
      "Epoch 2/30\n",
      "21/21 [==============================] - 0s 17ms/step - loss: 0.0066 - accuracy: 0.9985 - val_loss: 0.1044 - val_accuracy: 0.9756\n",
      "Epoch 3/30\n",
      "21/21 [==============================] - 0s 15ms/step - loss: 0.0031 - accuracy: 1.0000 - val_loss: 0.5375 - val_accuracy: 0.7195\n",
      "Epoch 4/30\n",
      "21/21 [==============================] - 0s 15ms/step - loss: 0.0036 - accuracy: 0.9985 - val_loss: 0.1617 - val_accuracy: 0.9512\n",
      "Epoch 5/30\n",
      "21/21 [==============================] - 0s 15ms/step - loss: 6.3724e-04 - accuracy: 1.0000 - val_loss: 0.9209 - val_accuracy: 0.8293\n"
     ]
    }
   ],
   "source": [
    "from tensorflow.keras.callbacks import EarlyStopping\n",
    "early_stopping = EarlyStopping(monitor='val_loss', patience=3)\n",
    "# training\n",
    "history = model.fit(train_points, train_labels, epochs=30, validation_data=(test_points, test_labels), verbose=1, callbacks=[early_stopping])"
   ]
  },
  {
   "cell_type": "code",
   "execution_count": 37,
   "metadata": {},
   "outputs": [
    {
     "name": "stdout",
     "output_type": "stream",
     "text": [
      "6/6 [==============================] - 0s 7ms/step - loss: 0.9209 - accuracy: 0.8293\n"
     ]
    }
   ],
   "source": [
    "test_loss, test_acc = model.evaluate(test_points, test_labels, verbose=1)"
   ]
  },
  {
   "cell_type": "code",
   "execution_count": 38,
   "metadata": {},
   "outputs": [
    {
     "name": "stdout",
     "output_type": "stream",
     "text": [
      "6/6 [==============================] - 0s 4ms/step\n"
     ]
    },
    {
     "data": {
      "image/png": "[encoded data removed]",
      "text/plain": [
       "<Figure size 800x600 with 1 Axes>"
      ]
     },
     "metadata": {},
     "output_type": "display_data"
    }
   ],
   "source": [
    "y_pred = np.argmax(model.predict(test_points), axis=1)\n",
    "\n",
    "cm = tf.math.confusion_matrix(test_labels, y_pred)\n",
    "plt.figure(figsize=(8, 6))\n",
    "sns.heatmap(cm, annot=True, fmt='d', cmap='Blues', cbar=False)\n",
    "plt.title('Confusion Matrix')\n",
    "plt.xlabel('Predicted Label')\n",
    "plt.ylabel('True Label')\n",
    "plt.show()"
   ]
  }
 ],
 "metadata": {
  "kernelspec": {
   "display_name": "base",
   "language": "python",
   "name": "python3"
  },
  "language_info": {
   "codemirror_mode": {
    "name": "ipython",
    "version": 3
   },
   "file_extension": ".py",
   "mimetype": "text/x-python",
   "name": "python",
   "nbconvert_exporter": "python",
   "pygments_lexer": "ipython3",
   "version": "3.11.4"
  }
 },
 "nbformat": 4,
 "nbformat_minor": 2
}
