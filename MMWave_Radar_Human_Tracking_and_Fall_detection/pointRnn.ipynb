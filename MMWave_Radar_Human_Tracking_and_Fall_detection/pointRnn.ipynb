{
 "cells": [
  {
   "cell_type": "code",
   "execution_count": 10,
   "metadata": {},
   "outputs": [],
   "source": [
    "import torch\n",
    "import torch.nn as nn\n",
    "import torch.optim as optim\n",
    "from torch.utils.data import Dataset, DataLoader\n",
    "import dataset_utils\n",
    "import importlib\n",
    "import matplotlib\n",
    "import numpy as np"
   ]
  },
  {
   "cell_type": "code",
   "execution_count": 6,
   "metadata": {},
   "outputs": [],
   "source": [
    "class PointRNNCell(nn.Module):\n",
    "    def __init__(self, input_size, hidden_size):\n",
    "        super(PointRNNCell, self).__init__()\n",
    "        self.input_size = input_size\n",
    "        self.hidden_size = hidden_size\n",
    "\n",
    "        # Linear transformations for the input and hidden state\n",
    "        self.W_i = nn.Linear(input_size, hidden_size)\n",
    "        self.W_h = nn.Linear(hidden_size, hidden_size)\n",
    "\n",
    "    def forward(self, x, h_prev):\n",
    "        # Compute the new hidden state\n",
    "        h_new = torch.tanh(self.W_i(x) + self.W_h(h_prev))\n",
    "        return h_new\n",
    "\n",
    "class PointRNN(nn.Module):\n",
    "    def __init__(self, input_size, hidden_size, num_layers, num_classes):\n",
    "        super(PointRNN, self).__init__()\n",
    "        self.hidden_size = hidden_size\n",
    "        self.num_layers = num_layers\n",
    "\n",
    "        # Create RNN layers\n",
    "        self.rnn_cells = nn.ModuleList(\n",
    "            [PointRNNCell(input_size if i == 0 else hidden_size, hidden_size) for i in range(num_layers)]\n",
    "        )\n",
    "\n",
    "        # Fully connected layer for classification\n",
    "        self.fc = nn.Linear(hidden_size, num_classes)\n",
    "\n",
    "    def forward(self, point_cloud_seq):\n",
    "        # Initialize hidden states\n",
    "        h = [torch.zeros(point_cloud_seq.size(0), self.hidden_size).to(point_cloud_seq.device) for _ in range(self.num_layers)]\n",
    "\n",
    "        # Process each point cloud in the sequence\n",
    "        for t in range(point_cloud_seq.size(1)):\n",
    "            x_t = point_cloud_seq[:, t]  # Extract point cloud at time step t\n",
    "            for i, cell in enumerate(self.rnn_cells):\n",
    "                h[i] = cell(x_t, h[i])\n",
    "\n",
    "        # Use the final hidden state for classification\n",
    "        out = self.fc(h[-1])\n",
    "        return out\n"
   ]
  },
  {
   "cell_type": "code",
   "execution_count": 2,
   "metadata": {},
   "outputs": [],
   "source": [
    "class PointCloudDataset(Dataset):\n",
    "    def __init__(self, num_samples, seq_length, num_points, num_classes):\n",
    "        self.num_samples = num_samples\n",
    "        self.seq_length = seq_length\n",
    "        self.num_points = num_points\n",
    "        self.num_classes = num_classes\n",
    "\n",
    "        # Generate random point cloud sequences and labels\n",
    "        self.data = torch.randn(num_samples, seq_length, num_points, 3)  # Random 3D points\n",
    "        self.labels = torch.randint(0, num_classes, (num_samples,))  # Random labels\n",
    "\n",
    "    def __len__(self):\n",
    "        return self.num_samples\n",
    "\n",
    "    def __getitem__(self, idx):\n",
    "        point_cloud_seq = self.data[idx]\n",
    "        label = self.labels[idx]\n",
    "        # Flatten the points in each point cloud for RNN input\n",
    "        point_cloud_seq = point_cloud_seq.view(self.seq_length, -1)\n",
    "        return point_cloud_seq, label\n"
   ]
  },
  {
   "cell_type": "code",
   "execution_count": 7,
   "metadata": {},
   "outputs": [],
   "source": [
    "def train(model, dataloader, criterion, optimizer, num_epochs):\n",
    "    model.train()\n",
    "    for epoch in range(num_epochs):\n",
    "        total_loss = 0.0\n",
    "        for batch_idx, (point_cloud_seq, labels) in enumerate(dataloader):\n",
    "            point_cloud_seq, labels = point_cloud_seq.to(device), labels.to(device)\n",
    "            \n",
    "            # Forward pass\n",
    "            outputs = model(point_cloud_seq)\n",
    "            loss = criterion(outputs, labels)\n",
    "            \n",
    "            # Backward pass and optimization\n",
    "            optimizer.zero_grad()\n",
    "            loss.backward()\n",
    "            optimizer.step()\n",
    "            \n",
    "            total_loss += loss.item()\n",
    "        \n",
    "        avg_loss = total_loss / len(dataloader)\n",
    "        print(f\"Epoch [{epoch+1}/{num_epochs}], Loss: {avg_loss:.4f}\")\n"
   ]
  },
  {
   "cell_type": "code",
   "execution_count": 9,
   "metadata": {},
   "outputs": [],
   "source": [
    "# Hyperparameters\n",
    "num_samples = 1000\n",
    "seq_length = 10  # Number of point clouds in a sequence\n",
    "num_points = 100  # Number of points in each point cloud\n",
    "input_size = 5  # Each point has x, y, z coordinates\n",
    "hidden_size = 128\n",
    "num_layers = 2\n",
    "num_classes = 3  # Number of output classes\n",
    "batch_size = 8\n",
    "num_epochs = 10\n",
    "learning_rate = 0.001\n",
    "\n",
    "# Device configuration\n",
    "device = torch.device('cuda' if torch.cuda.is_available() else 'cpu')\n",
    "\n"
   ]
  },
  {
   "cell_type": "code",
   "execution_count": null,
   "metadata": {},
   "outputs": [],
   "source": [
    "# Dataset and DataLoader\n",
    "dataset = PointCloudDataset(num_samples, seq_length, num_points, num_classes)\n",
    "dataloader = DataLoader(dataset, batch_size=batch_size, shuffle=True)\n",
    "\n",
    "# Initialize the model, loss function, and optimizer\n",
    "model = PointRNN(input_size * num_points, hidden_size, num_layers, num_classes).to(device)\n",
    "criterion = nn.CrossEntropyLoss()\n",
    "optimizer = optim.Adam(model.parameters(), lr=learning_rate)"
   ]
  },
  {
   "cell_type": "code",
   "execution_count": 11,
   "metadata": {},
   "outputs": [
    {
     "name": "stdout",
     "output_type": "stream",
     "text": [
      "processing class: jumping\n",
      "processing class: walking\n"
     ]
    }
   ],
   "source": [
    "DATA_DIR = \"data/entire_field_raw_3_class/\"\n",
    "NUM_POINTS = 100\n",
    "NUM_CLASSES = 2\n",
    "BATCH_SIZE = 32\n",
    "train_points, test_points, train_labels, test_labels, CLASS_MAP = dataset_utils.parse_dataset(NUM_POINTS, DATA_DIR)"
   ]
  }
 ],
 "metadata": {
  "kernelspec": {
   "display_name": "base",
   "language": "python",
   "name": "python3"
  },
  "language_info": {
   "codemirror_mode": {
    "name": "ipython",
    "version": 3
   },
   "file_extension": ".py",
   "mimetype": "text/x-python",
   "name": "python",
   "nbconvert_exporter": "python",
   "pygments_lexer": "ipython3",
   "version": "3.11.4"
  }
 },
 "nbformat": 4,
 "nbformat_minor": 2
}
