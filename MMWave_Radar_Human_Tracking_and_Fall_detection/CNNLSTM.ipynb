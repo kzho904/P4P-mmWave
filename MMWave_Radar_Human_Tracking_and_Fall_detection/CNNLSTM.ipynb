{
 "cells": [
  {
   "cell_type": "code",
   "execution_count": 58,
   "metadata": {},
   "outputs": [],
   "source": [
    "import numpy as np\n",
    "import pandas as pd\n",
    "import matplotlib.pyplot\n",
    "import seaborn as sns\n",
    "import tensorflow as tf\n",
    "import keras\n",
    "from sklearn.model_selection import train_test_split\n",
    "from tensorflow.python.keras.layers.convolutional import Conv1D, MaxPooling1D\n",
    "from keras.models import Sequential\n",
    "from keras.layers import Dense\n",
    "from keras.layers import Flatten\n",
    "from keras.layers import Dropout\n",
    "from keras.layers import LSTM\n",
    "from keras.layers import TimeDistributed\n",
    "from keras.layers import ConvLSTM2D\n",
    "from keras.utils import to_categorical\n",
    "import pickle\n",
    "import os\n",
    "import dataset_utils\n",
    "import NN"
   ]
  },
  {
   "cell_type": "code",
   "execution_count": 59,
   "metadata": {},
   "outputs": [],
   "source": [
    "import dataset_utils"
   ]
  },
  {
   "cell_type": "code",
   "execution_count": 3,
   "metadata": {},
   "outputs": [],
   "source": [
    "def flatten_and_pad(point_cloud, target_length):\n",
    "    # Flatten the point cloud into a 2D array with X, Y, Z coordinates\n",
    "    # Ensure the data is padded or truncated to match the target length\n",
    "    num_points = len(point_cloud)\n",
    "    padded_point_cloud = np.zeros((target_length, 3))\n",
    "    padded_point_cloud[:num_points] = point_cloud\n",
    "    return padded_point_cloud"
   ]
  },
  {
   "cell_type": "code",
   "execution_count": 49,
   "metadata": {},
   "outputs": [
    {
     "name": "stdout",
     "output_type": "stream",
     "text": [
      "processing class: sit\n",
      "processing class: stand\n"
     ]
    }
   ],
   "source": [
    "DATA_DIR = \"model_data\"\n",
    "NUM_POINTS = 40\n",
    "NUM_CLASSES = 2\n",
    "BATCH_SIZE = 32\n",
    "train_points, test_points, train_labels, test_labels, CLASS_MAP = dataset_utils.parse_dataset(NUM_POINTS, DATA_DIR)"
   ]
  },
  {
   "cell_type": "code",
   "execution_count": 50,
   "metadata": {},
   "outputs": [
    {
     "name": "stdout",
     "output_type": "stream",
     "text": [
      "[[[-2.025e+00  2.991e-01  1.513e+00  0.000e+00  1.350e+02]\n",
      "  [-2.902e+00  1.609e+00  7.598e-01  2.505e-01  1.660e+02]\n",
      "  [-1.616e-01  1.748e+00  7.031e-01  3.757e-01  2.290e+02]\n",
      "  ...\n",
      "  [-2.152e+00  2.051e+00  8.672e-01  0.000e+00  2.130e+02]\n",
      "  [-2.152e+00  2.049e+00  8.662e-01  0.000e+00  2.130e+02]\n",
      "  [-1.743e-01  1.755e+00  7.842e-01  5.010e-01  2.400e+02]]\n",
      "\n",
      " [[ 1.078e+00  3.805e+00  1.090e+00  1.252e-01  2.440e+02]\n",
      "  [-2.090e-01  2.428e+00  1.973e-01 -3.757e-01  1.730e+02]\n",
      "  [-1.049e+00  4.297e-01  3.688e+00  0.000e+00  1.260e+02]\n",
      "  ...\n",
      "  [ 6.455e-01  5.156e-01 -3.184e-01  0.000e+00  1.250e+02]\n",
      "  [ 1.070e+00  3.805e+00  1.146e+00  1.252e-01  3.250e+02]\n",
      "  [-7.129e-02  2.768e+00 -1.563e-02  3.757e-01  2.750e+02]]\n",
      "\n",
      " [[ 1.103e+00  3.969e+00  8.203e-01 -1.252e-01  2.150e+02]\n",
      "  [ 1.110e+00  3.918e+00  7.988e-01 -5.010e-01  2.020e+02]\n",
      "  [ 6.455e-01  5.117e-01 -3.125e-01  0.000e+00  1.230e+02]\n",
      "  ...\n",
      "  [ 6.455e-01  4.062e-01 -1.309e-01  0.000e+00  1.180e+02]\n",
      "  [ 7.998e-01  3.945e+00  9.023e-01  2.505e-01  1.520e+02]\n",
      "  [ 6.455e-01  4.922e-01 -2.773e-01  0.000e+00  1.230e+02]]\n",
      "\n",
      " ...\n",
      "\n",
      " [[-7.017e-01  7.314e-01  6.133e-01  0.000e+00  1.580e+02]\n",
      "  [-2.076e+00  8.511e-01  1.662e+00  0.000e+00  1.610e+02]\n",
      "  [-2.152e+00  2.055e+00  8.740e-01  0.000e+00  2.080e+02]\n",
      "  ...\n",
      "  [-2.076e+00  8.530e-01  1.668e+00  0.000e+00  1.610e+02]\n",
      "  [-7.017e-01  7.280e-01  6.113e-01  0.000e+00  1.560e+02]\n",
      "  [-2.066e+00  2.625e-01  1.609e+00  0.000e+00  1.460e+02]]\n",
      "\n",
      " [[-3.004e+00  1.536e+00 -1.563e-02 -5.010e-01  1.450e+02]\n",
      "  [-2.066e+00  2.581e-01  1.606e+00  0.000e+00  1.420e+02]\n",
      "  [-2.066e+00  2.715e-01  1.615e+00  0.000e+00  1.380e+02]\n",
      "  ...\n",
      "  [-2.066e+00  2.473e-01  1.600e+00  0.000e+00  1.440e+02]\n",
      "  [-2.152e+00  2.055e+00  8.740e-01  0.000e+00  2.270e+02]\n",
      "  [-7.017e-01  7.295e-01  6.133e-01  0.000e+00  1.600e+02]]\n",
      "\n",
      " [[-2.076e+00  8.506e-01  1.662e+00  0.000e+00  1.600e+02]\n",
      "  [-2.152e+00  2.055e+00  8.740e-01  0.000e+00  2.280e+02]\n",
      "  [-7.017e-01  7.280e-01  6.113e-01  0.000e+00  1.580e+02]\n",
      "  ...\n",
      "  [-2.066e+00  2.581e-01  1.606e+00  0.000e+00  1.420e+02]\n",
      "  [-2.066e+00  2.539e-01  1.604e+00  0.000e+00  1.370e+02]\n",
      "  [-2.076e+00  8.457e-01  1.648e+00  0.000e+00  1.610e+02]]]\n"
     ]
    }
   ],
   "source": [
    "print(train_points)"
   ]
  },
  {
   "cell_type": "code",
   "execution_count": 51,
   "metadata": {},
   "outputs": [],
   "source": [
    "from tensorflow import data as tf_data\n",
    "import keras\n",
    "import PointNET\n",
    "\n",
    "keras.utils.set_random_seed(seed=42)"
   ]
  },
  {
   "cell_type": "code",
   "execution_count": 52,
   "metadata": {},
   "outputs": [],
   "source": [
    "train_size = 0.8\n",
    "dataset = tf_data.Dataset.from_tensor_slices((train_points, train_labels))\n",
    "test_dataset = tf_data.Dataset.from_tensor_slices((test_points, test_labels))\n",
    "train_dataset_size = int(len(dataset) * train_size)"
   ]
  },
  {
   "cell_type": "code",
   "execution_count": 53,
   "metadata": {},
   "outputs": [],
   "source": [
    "dataset = dataset.shuffle(len(train_points)).map(NN.augment)\n",
    "test_dataset = test_dataset.shuffle(len(test_points)).batch(BATCH_SIZE)\n",
    "train_dataset = dataset.take(train_dataset_size).batch(BATCH_SIZE)\n",
    "validation_dataset = dataset.skip(train_dataset_size).batch(BATCH_SIZE)"
   ]
  },
  {
   "cell_type": "code",
   "execution_count": 54,
   "metadata": {},
   "outputs": [],
   "source": [
    "inputs = keras.Input(shape=(NUM_POINTS, 5))"
   ]
  },
  {
   "cell_type": "code",
   "execution_count": 55,
   "metadata": {},
   "outputs": [],
   "source": [
    "def model_structure_1D(input_shape, output_shape):\n",
    "    _model_input = Input(shape=input_shape)\n",
    "    _model = Conv1D(32, kernel_size=1, padding='same', activation='relu')(_model_input)\n",
    "    _model = MaxPooling1D(pool_size=2)(_model)\n",
    "    _model = Flatten()(_model)\n",
    "    _model = Dense(output_shape, activation='softmax')(_model)\n",
    "    model = Model(inputs=_model_input, outputs=_model)\n",
    "    return model\n"
   ]
  },
  {
   "cell_type": "code",
   "execution_count": 56,
   "metadata": {},
   "outputs": [],
   "source": [
    "import matplotlib\n",
    "import numpy as np\n",
    "from matplotlib import pyplot as plt\n",
    "from matplotlib.ticker import LinearLocator\n",
    "import tensorflow as tf\n",
    "from tensorflow import keras\n",
    "from tensorflow.keras import layers\n",
    "from tensorflow.keras import Input, Model\n",
    "from tensorflow.keras.layers import Conv2D, MaxPooling2D, Dense, Flatten, Conv3D, MaxPooling3D, Embedding, LSTM, Bidirectional, Reshape, Concatenate"
   ]
  },
  {
   "cell_type": "code",
   "execution_count": 57,
   "metadata": {},
   "outputs": [
    {
     "ename": "AttributeError",
     "evalue": "'tuple' object has no attribute 'rank'",
     "output_type": "error",
     "traceback": [
      "\u001b[0;31m---------------------------------------------------------------------------\u001b[0m",
      "\u001b[0;31mAttributeError\u001b[0m                            Traceback (most recent call last)",
      "Cell \u001b[0;32mIn[57], line 3\u001b[0m\n\u001b[1;32m      1\u001b[0m input_shape \u001b[38;5;241m=\u001b[39m (\u001b[38;5;241m40\u001b[39m, \u001b[38;5;241m5\u001b[39m)  \u001b[38;5;66;03m# Example input shape for 3D data\u001b[39;00m\n\u001b[1;32m      2\u001b[0m output_shape \u001b[38;5;241m=\u001b[39m \u001b[38;5;241m3\u001b[39m  \u001b[38;5;66;03m# Number of classes or output units\u001b[39;00m\n\u001b[0;32m----> 3\u001b[0m model \u001b[38;5;241m=\u001b[39m \u001b[43mmodel_structure_1D\u001b[49m\u001b[43m(\u001b[49m\u001b[43minput_shape\u001b[49m\u001b[43m,\u001b[49m\u001b[43m \u001b[49m\u001b[43moutput_shape\u001b[49m\u001b[43m)\u001b[49m\n",
      "Cell \u001b[0;32mIn[55], line 3\u001b[0m, in \u001b[0;36mmodel_structure_1D\u001b[0;34m(input_shape, output_shape)\u001b[0m\n\u001b[1;32m      1\u001b[0m \u001b[38;5;28;01mdef\u001b[39;00m \u001b[38;5;21mmodel_structure_1D\u001b[39m(input_shape, output_shape):\n\u001b[1;32m      2\u001b[0m     _model_input \u001b[38;5;241m=\u001b[39m Input(shape\u001b[38;5;241m=\u001b[39minput_shape)\n\u001b[0;32m----> 3\u001b[0m     _model \u001b[38;5;241m=\u001b[39m \u001b[43mConv1D\u001b[49m\u001b[43m(\u001b[49m\u001b[38;5;241;43m32\u001b[39;49m\u001b[43m,\u001b[49m\u001b[43m \u001b[49m\u001b[43mkernel_size\u001b[49m\u001b[38;5;241;43m=\u001b[39;49m\u001b[38;5;241;43m1\u001b[39;49m\u001b[43m,\u001b[49m\u001b[43m \u001b[49m\u001b[43mpadding\u001b[49m\u001b[38;5;241;43m=\u001b[39;49m\u001b[38;5;124;43m'\u001b[39;49m\u001b[38;5;124;43msame\u001b[39;49m\u001b[38;5;124;43m'\u001b[39;49m\u001b[43m,\u001b[49m\u001b[43m \u001b[49m\u001b[43mactivation\u001b[49m\u001b[38;5;241;43m=\u001b[39;49m\u001b[38;5;124;43m'\u001b[39;49m\u001b[38;5;124;43mrelu\u001b[39;49m\u001b[38;5;124;43m'\u001b[39;49m\u001b[43m)\u001b[49m\u001b[43m(\u001b[49m\u001b[43m_model_input\u001b[49m\u001b[43m)\u001b[49m\n\u001b[1;32m      4\u001b[0m     _model \u001b[38;5;241m=\u001b[39m MaxPooling1D(pool_size\u001b[38;5;241m=\u001b[39m\u001b[38;5;241m2\u001b[39m)(_model)\n\u001b[1;32m      5\u001b[0m     _model \u001b[38;5;241m=\u001b[39m Flatten()(_model)\n",
      "File \u001b[0;32m~/mambaforge/envs/py38/lib/python3.10/site-packages/tensorflow/python/keras/engine/base_layer.py:1026\u001b[0m, in \u001b[0;36mLayer.__call__\u001b[0;34m(self, *args, **kwargs)\u001b[0m\n\u001b[1;32m   1019\u001b[0m eager \u001b[38;5;241m=\u001b[39m context\u001b[38;5;241m.\u001b[39mexecuting_eagerly()\n\u001b[1;32m   1020\u001b[0m \u001b[38;5;28;01mwith\u001b[39;00m call_context\u001b[38;5;241m.\u001b[39menter(\n\u001b[1;32m   1021\u001b[0m     layer\u001b[38;5;241m=\u001b[39m\u001b[38;5;28mself\u001b[39m,\n\u001b[1;32m   1022\u001b[0m     inputs\u001b[38;5;241m=\u001b[39minputs,\n\u001b[1;32m   1023\u001b[0m     build_graph\u001b[38;5;241m=\u001b[39m\u001b[38;5;129;01mnot\u001b[39;00m eager,\n\u001b[1;32m   1024\u001b[0m     training\u001b[38;5;241m=\u001b[39mtraining_mode):\n\u001b[0;32m-> 1026\u001b[0m   \u001b[43minput_spec\u001b[49m\u001b[38;5;241;43m.\u001b[39;49m\u001b[43massert_input_compatibility\u001b[49m\u001b[43m(\u001b[49m\u001b[38;5;28;43mself\u001b[39;49m\u001b[38;5;241;43m.\u001b[39;49m\u001b[43minput_spec\u001b[49m\u001b[43m,\u001b[49m\u001b[43m \u001b[49m\u001b[43minputs\u001b[49m\u001b[43m,\u001b[49m\u001b[43m \u001b[49m\u001b[38;5;28;43mself\u001b[39;49m\u001b[38;5;241;43m.\u001b[39;49m\u001b[43mname\u001b[49m\u001b[43m)\u001b[49m\n\u001b[1;32m   1027\u001b[0m   \u001b[38;5;28;01mif\u001b[39;00m eager:\n\u001b[1;32m   1028\u001b[0m     call_fn \u001b[38;5;241m=\u001b[39m \u001b[38;5;28mself\u001b[39m\u001b[38;5;241m.\u001b[39mcall\n",
      "File \u001b[0;32m~/mambaforge/envs/py38/lib/python3.10/site-packages/tensorflow/python/keras/engine/input_spec.py:226\u001b[0m, in \u001b[0;36massert_input_compatibility\u001b[0;34m(input_spec, inputs, layer_name)\u001b[0m\n\u001b[1;32m    221\u001b[0m     \u001b[38;5;28;01mraise\u001b[39;00m \u001b[38;5;167;01mValueError\u001b[39;00m(\u001b[38;5;124m'\u001b[39m\u001b[38;5;124mInput \u001b[39m\u001b[38;5;124m'\u001b[39m \u001b[38;5;241m+\u001b[39m \u001b[38;5;28mstr\u001b[39m(input_index) \u001b[38;5;241m+\u001b[39m \u001b[38;5;124m'\u001b[39m\u001b[38;5;124m of layer \u001b[39m\u001b[38;5;124m'\u001b[39m \u001b[38;5;241m+\u001b[39m\n\u001b[1;32m    222\u001b[0m                      layer_name \u001b[38;5;241m+\u001b[39m \u001b[38;5;124m'\u001b[39m\u001b[38;5;124m is incompatible with the layer: \u001b[39m\u001b[38;5;124m'\u001b[39m\n\u001b[1;32m    223\u001b[0m                      \u001b[38;5;124m'\u001b[39m\u001b[38;5;124mexpected max_ndim=\u001b[39m\u001b[38;5;124m'\u001b[39m \u001b[38;5;241m+\u001b[39m \u001b[38;5;28mstr\u001b[39m(spec\u001b[38;5;241m.\u001b[39mmax_ndim) \u001b[38;5;241m+\u001b[39m\n\u001b[1;32m    224\u001b[0m                      \u001b[38;5;124m'\u001b[39m\u001b[38;5;124m, found ndim=\u001b[39m\u001b[38;5;124m'\u001b[39m \u001b[38;5;241m+\u001b[39m \u001b[38;5;28mstr\u001b[39m(ndim))\n\u001b[1;32m    225\u001b[0m \u001b[38;5;28;01mif\u001b[39;00m spec\u001b[38;5;241m.\u001b[39mmin_ndim \u001b[38;5;129;01mis\u001b[39;00m \u001b[38;5;129;01mnot\u001b[39;00m \u001b[38;5;28;01mNone\u001b[39;00m:\n\u001b[0;32m--> 226\u001b[0m   ndim \u001b[38;5;241m=\u001b[39m \u001b[43mx\u001b[49m\u001b[38;5;241;43m.\u001b[39;49m\u001b[43mshape\u001b[49m\u001b[38;5;241;43m.\u001b[39;49m\u001b[43mrank\u001b[49m\n\u001b[1;32m    227\u001b[0m   \u001b[38;5;28;01mif\u001b[39;00m ndim \u001b[38;5;129;01mis\u001b[39;00m \u001b[38;5;129;01mnot\u001b[39;00m \u001b[38;5;28;01mNone\u001b[39;00m \u001b[38;5;129;01mand\u001b[39;00m ndim \u001b[38;5;241m<\u001b[39m spec\u001b[38;5;241m.\u001b[39mmin_ndim:\n\u001b[1;32m    228\u001b[0m     \u001b[38;5;28;01mraise\u001b[39;00m \u001b[38;5;167;01mValueError\u001b[39;00m(\u001b[38;5;124m'\u001b[39m\u001b[38;5;124mInput \u001b[39m\u001b[38;5;124m'\u001b[39m \u001b[38;5;241m+\u001b[39m \u001b[38;5;28mstr\u001b[39m(input_index) \u001b[38;5;241m+\u001b[39m \u001b[38;5;124m'\u001b[39m\u001b[38;5;124m of layer \u001b[39m\u001b[38;5;124m'\u001b[39m \u001b[38;5;241m+\u001b[39m\n\u001b[1;32m    229\u001b[0m                      layer_name \u001b[38;5;241m+\u001b[39m \u001b[38;5;124m'\u001b[39m\u001b[38;5;124m is incompatible with the layer: \u001b[39m\u001b[38;5;124m'\u001b[39m\n\u001b[1;32m    230\u001b[0m                      \u001b[38;5;124m'\u001b[39m\u001b[38;5;124m: expected min_ndim=\u001b[39m\u001b[38;5;124m'\u001b[39m \u001b[38;5;241m+\u001b[39m \u001b[38;5;28mstr\u001b[39m(spec\u001b[38;5;241m.\u001b[39mmin_ndim) \u001b[38;5;241m+\u001b[39m\n\u001b[1;32m    231\u001b[0m                      \u001b[38;5;124m'\u001b[39m\u001b[38;5;124m, found ndim=\u001b[39m\u001b[38;5;124m'\u001b[39m \u001b[38;5;241m+\u001b[39m \u001b[38;5;28mstr\u001b[39m(ndim) \u001b[38;5;241m+\u001b[39m\n\u001b[1;32m    232\u001b[0m                      \u001b[38;5;124m'\u001b[39m\u001b[38;5;124m. Full shape received: \u001b[39m\u001b[38;5;124m'\u001b[39m \u001b[38;5;241m+\u001b[39m\n\u001b[1;32m    233\u001b[0m                      \u001b[38;5;28mstr\u001b[39m(\u001b[38;5;28mtuple\u001b[39m(shape)))\n",
      "\u001b[0;31mAttributeError\u001b[0m: 'tuple' object has no attribute 'rank'"
     ]
    }
   ],
   "source": [
    "input_shape = (40, 5)  # Example input shape for 3D data\n",
    "output_shape = 3  # Number of classes or output units\n",
    "model = model_structure_1D(input_shape, output_shape)"
   ]
  }
 ],
 "metadata": {
  "kernelspec": {
   "display_name": "Python 3",
   "language": "python",
   "name": "python3"
  },
  "language_info": {
   "codemirror_mode": {
    "name": "ipython",
    "version": 3
   },
   "file_extension": ".py",
   "mimetype": "text/x-python",
   "name": "python",
   "nbconvert_exporter": "python",
   "pygments_lexer": "ipython3",
   "version": "3.10.12"
  }
 },
 "nbformat": 4,
 "nbformat_minor": 2
}
