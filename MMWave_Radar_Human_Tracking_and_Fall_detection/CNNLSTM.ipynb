{
 "cells": [
  {
   "cell_type": "code",
   "execution_count": 1,
   "metadata": {},
   "outputs": [],
   "source": [
    "import numpy as np\n",
    "import pandas as pd\n",
    "import matplotlib.pyplot\n",
    "import seaborn as sns\n",
    "import tensorflow as tf\n",
    "import keras\n",
    "from sklearn.model_selection import train_test_split\n",
    "from tensorflow.python.keras.layers.convolutional import Conv1D, MaxPooling1D\n",
    "from keras.models import Sequential\n",
    "from keras.layers import Dense\n",
    "from keras.layers import Flatten\n",
    "from keras.layers import Dropout\n",
    "from keras.layers import LSTM\n",
    "from keras.layers import TimeDistributed\n",
    "from keras.layers import ConvLSTM2D\n",
    "from keras.utils import to_categorical\n",
    "import pickle\n",
    "import os\n",
    "import NN"
   ]
  },
  {
   "cell_type": "code",
   "execution_count": 2,
   "metadata": {},
   "outputs": [],
   "source": [
    "import dataset_utils\n",
    "import importlib"
   ]
  },
  {
   "cell_type": "code",
   "execution_count": 14,
   "metadata": {},
   "outputs": [
    {
     "data": {
      "text/plain": [
       "<module 'dataset_utils' from 'd:\\\\University\\\\P4P\\\\P4P-mmWave\\\\MMWave_Radar_Human_Tracking_and_Fall_detection\\\\dataset_utils.py'>"
      ]
     },
     "execution_count": 14,
     "metadata": {},
     "output_type": "execute_result"
    }
   ],
   "source": [
    "importlib.reload(dataset_utils)"
   ]
  },
  {
   "cell_type": "code",
   "execution_count": 3,
   "metadata": {},
   "outputs": [
    {
     "name": "stdout",
     "output_type": "stream",
     "text": [
      "processing class: sitting\n",
      "processing class: standing\n"
     ]
    }
   ],
   "source": [
    "DATA_DIR = \"pointnet_data\"\n",
    "NUM_POINTS = 100\n",
    "NUM_CLASSES = 2\n",
    "BATCH_SIZE = 32\n",
    "train_points, test_points, train_labels, test_labels, CLASS_MAP = dataset_utils.parse_dataset(NUM_POINTS, DATA_DIR)"
   ]
  },
  {
   "cell_type": "code",
   "execution_count": 4,
   "metadata": {},
   "outputs": [
    {
     "name": "stdout",
     "output_type": "stream",
     "text": [
      "[0 0 0 0 0 0 0 0 0 0 0 0 0 0 0 0 0 0 0 0 0 0 0 0 0 0 0 0 0 0 0 0 0 0 0 0 0\n",
      " 0 0 0 0 0 0 0 0 0 0 0 0 0 0 0 0 0 0 0 0 0 0 0 0 0 0 0 0 0 0 0 0 0 0 0 0 0\n",
      " 0 0 0 0 0 0 0 0 0 0 0 0 0 0 0 0 0 1 1 1 1 1 1 1 1 1 1 1 1 1 1 1 1 1 1 1 1\n",
      " 1 1 1 1 1 1 1 1 1 1 1 1 1 1 1 1 1 1 1 1 1 1 1 1 1 1 1 1 1 1 1 1 1 1 1 1 1\n",
      " 1 1 1 1 1 1 1 1 1 1 1 1 1 1 1 1 1 1 1 1 1 1 1 1 1 1 1 1 1 1 1 1 1]\n"
     ]
    }
   ],
   "source": [
    "print(test_labels)"
   ]
  },
  {
   "cell_type": "code",
   "execution_count": 5,
   "metadata": {},
   "outputs": [
    {
     "name": "stdout",
     "output_type": "stream",
     "text": [
      "[[[-3.977e-01  1.745e+00  3.711e-01  0.000e+00  1.300e+02]\n",
      "  [-1.562e-01  1.894e+00  6.016e-01 -1.252e-01  1.610e+02]\n",
      "  [-1.782e-01  1.694e+00  5.098e-01 -1.252e-01  1.380e+02]\n",
      "  ...\n",
      "  [-1.562e-01  1.816e+00  5.146e-01 -1.252e-01  1.280e+02]\n",
      "  [-2.437e-01  1.409e+00  5.898e-01 -1.252e-01  1.510e+02]\n",
      "  [-1.890e-01  1.518e+00  4.072e-01  0.000e+00  1.520e+02]]\n",
      "\n",
      " [[-2.109e-01  1.637e+00  6.328e-01  0.000e+00  2.440e+02]\n",
      "  [-8.838e-02  1.488e+00  3.008e-01  0.000e+00  1.210e+02]\n",
      "  [-1.782e-01  1.694e+00  5.098e-01 -1.252e-01  1.380e+02]\n",
      "  ...\n",
      "  [-1.372e-01  1.773e+00  8.193e-01 -2.505e-01  3.080e+02]\n",
      "  [-1.372e-01  1.620e+00  6.436e-01  0.000e+00  2.100e+02]\n",
      "  [-1.372e-01  1.620e+00  6.436e-01  0.000e+00  2.100e+02]]\n",
      "\n",
      " [[-4.111e-01  2.320e+00  5.576e-01 -2.505e-01  2.100e+02]\n",
      "  [-4.045e-01  1.669e+00  3.613e-01  0.000e+00  1.400e+02]\n",
      "  [-1.006e-01  1.670e+00  5.146e-01 -1.252e-01  1.910e+02]\n",
      "  ...\n",
      "  [-6.074e-01  1.410e+00  7.451e-01 -2.505e-01  1.990e+02]\n",
      "  [-4.658e-01  1.326e+00  5.771e-01  1.252e-01  2.750e+02]\n",
      "  [-2.437e-01  1.326e+00  5.234e-01  0.000e+00  1.330e+02]]\n",
      "\n",
      " ...\n",
      "\n",
      " [[-2.437e-01  1.796e+00  1.029e+00 -6.260e-01  3.170e+02]\n",
      "  [ 1.040e-01  1.063e+00  1.248e+00 -2.505e-01  3.070e+02]\n",
      "  [-5.742e-01  3.182e+00  4.834e-01 -7.515e-01  2.030e+02]\n",
      "  ...\n",
      "  [ 3.909e-01  3.426e+00  5.850e-01 -1.252e-01  1.930e+02]\n",
      "  [ 4.480e-01  3.338e+00  1.110e+00 -3.757e-01  3.150e+02]\n",
      "  [ 1.250e-01  3.512e+00  9.102e-01 -3.757e-01  3.690e+02]]\n",
      "\n",
      " [[-5.010e-01  3.354e+00  9.814e-01  7.515e-01  3.200e+02]\n",
      "  [ 3.613e-01  2.727e+00  1.317e+00 -5.010e-01  2.690e+02]\n",
      "  [-4.346e-01  2.598e+00  9.297e-01 -2.505e-01  1.830e+02]\n",
      "  ...\n",
      "  [ 5.137e-01  3.623e+00  8.535e-01 -2.505e-01  3.500e+02]\n",
      "  [-4.219e-01  3.031e+00  4.463e-01 -6.260e-01  2.750e+02]\n",
      "  [ 2.598e-01  1.056e+00  1.613e+00 -2.505e-01  3.070e+02]]\n",
      "\n",
      " [[ 7.998e-01  3.594e+00  6.777e-01 -1.252e-01  1.740e+02]\n",
      "  [-4.600e-01  2.875e+00  4.980e-01  3.757e-01  3.350e+02]\n",
      "  [-7.295e-01  3.324e+00  2.852e-01  7.515e-01  2.530e+02]\n",
      "  ...\n",
      "  [-1.270e-01  1.709e+00  4.092e-01  2.505e-01  1.960e+02]\n",
      "  [ 8.574e-01  2.756e+00  1.416e+00  3.757e-01  1.860e+02]\n",
      "  [-4.114e-01  2.133e+00  1.005e+00 -3.757e-01  2.710e+02]]]\n"
     ]
    }
   ],
   "source": [
    "print(train_points)"
   ]
  },
  {
   "cell_type": "code",
   "execution_count": 6,
   "metadata": {},
   "outputs": [],
   "source": [
    "from tensorflow import data as tf_data\n",
    "import keras\n",
    "#import PointNET\n",
    "\n",
    "keras.utils.set_random_seed(seed=42)"
   ]
  },
  {
   "cell_type": "code",
   "execution_count": 7,
   "metadata": {},
   "outputs": [],
   "source": [
    "train_size = 0.8\n",
    "dataset = tf_data.Dataset.from_tensor_slices((train_points, train_labels))\n",
    "test_dataset = tf_data.Dataset.from_tensor_slices((test_points, test_labels))\n",
    "train_dataset_size = int(len(dataset) * train_size)"
   ]
  },
  {
   "cell_type": "code",
   "execution_count": 8,
   "metadata": {},
   "outputs": [],
   "source": [
    "dataset = dataset.shuffle(len(train_points)).map(NN.augment)\n",
    "test_dataset = test_dataset.shuffle(len(test_points)).batch(BATCH_SIZE)\n",
    "train_dataset = dataset.take(train_dataset_size).batch(BATCH_SIZE)\n",
    "validation_dataset = dataset.skip(train_dataset_size).batch(BATCH_SIZE)"
   ]
  },
  {
   "cell_type": "code",
   "execution_count": 9,
   "metadata": {},
   "outputs": [],
   "source": [
    "inputs = keras.Input(shape=(NUM_POINTS, 5))"
   ]
  },
  {
   "cell_type": "code",
   "execution_count": 22,
   "metadata": {},
   "outputs": [],
   "source": [
    "import matplotlib\n",
    "import numpy as np\n",
    "from matplotlib import pyplot as plt\n",
    "from matplotlib.ticker import LinearLocator\n",
    "import tensorflow as tf\n",
    "from tensorflow import keras\n",
    "from tensorflow.keras import layers\n",
    "from tensorflow.keras import Input, Model\n",
    "from tensorflow.keras.layers import Conv2D, MaxPooling2D, Dense, Flatten, Conv3D, MaxPooling3D, Embedding, LSTM, Bidirectional, Reshape, Concatenate"
   ]
  },
  {
   "cell_type": "code",
   "execution_count": 10,
   "metadata": {},
   "outputs": [],
   "source": [
    "import tensorflow as tf\n",
    "from tensorflow.keras import layers, models\n",
    "from tensorflow.keras.layers import Conv2D, MaxPooling2D, Flatten, Dense, BatchNormalization\n",
    "\n",
    "# Define the input shape (5 features)\n",
    "input_shape = (None, 5)\n",
    "\n",
    "# Define the model\n",
    "model = models.Sequential()\n",
    "\n",
    "# 1. CNN layer\n",
    "model.add(layers.Conv1D(filters=64, kernel_size=3, activation='relu', input_shape=input_shape))\n",
    "model.add(layers.MaxPooling1D(pool_size=2))\n",
    "model.add(Dropout(0.25))\n",
    "model.add(BatchNormalization())\n",
    "\n",
    "#model.add(layers.Conv1D(filters=128, kernel_size=3, activation='relu', input_shape=input_shape))\n",
    "#model.add(layers.MaxPooling1D(pool_size=2))\n",
    "#model.add(Dropout(0.25))\n",
    "#model.add(BatchNormalization())\n",
    "\n",
    "# # 2. LSTM layer\n",
    "# model.add(layers.LSTM(50, return_sequences=True))\n",
    "# model.add(layers.LSTM(50))\n",
    "\n",
    "# 3. Dense layers\n",
    "#model.add(layers.Flatten())\n",
    "model.add(layers.Dense(64, activation='relu'))\n",
    "#model.add(BatchNormalization())\n",
    "#model.add(Dropout(0.5))\n",
    "#model.add(layers.Dense(1, activation='linear'))  # Output layer (you can adjust the output size and activation)\n",
    "model.add(layers.Dense(1, activation='softmax'))\n"
   ]
  },
  {
   "cell_type": "code",
   "execution_count": 11,
   "metadata": {},
   "outputs": [
    {
     "name": "stdout",
     "output_type": "stream",
     "text": [
      "Model: \"sequential\"\n",
      "_________________________________________________________________\n",
      " Layer (type)                Output Shape              Param #   \n",
      "=================================================================\n",
      " conv1d (Conv1D)             (None, None, 64)          1024      \n",
      "                                                                 \n",
      " max_pooling1d (MaxPooling1  (None, None, 64)          0         \n",
      " D)                                                              \n",
      "                                                                 \n",
      " dropout (Dropout)           (None, None, 64)          0         \n",
      "                                                                 \n",
      " batch_normalization (Batch  (None, None, 64)          256       \n",
      " Normalization)                                                  \n",
      "                                                                 \n",
      " dense (Dense)               (None, None, 64)          4160      \n",
      "                                                                 \n",
      " dense_1 (Dense)             (None, None, 1)           65        \n",
      "                                                                 \n",
      "=================================================================\n",
      "Total params: 5505 (21.50 KB)\n"
     ]
    },
    {
     "name": "stdout",
     "output_type": "stream",
     "text": [
      "Trainable params: 5377 (21.00 KB)\n",
      "Non-trainable params: 128 (512.00 Byte)\n",
      "_________________________________________________________________\n"
     ]
    }
   ],
   "source": [
    "# Compile the model\n",
    "model.compile(optimizer='adam', loss='mse', metrics=['mae'])\n",
    "\n",
    "# Summary of the model\n",
    "model.summary()"
   ]
  },
  {
   "cell_type": "code",
   "execution_count": 12,
   "metadata": {},
   "outputs": [
    {
     "name": "stdout",
     "output_type": "stream",
     "text": [
      "Epoch 1/30\n",
      "45/45 [==============================] - 2s 10ms/step - loss: 0.5042 - mae: 0.5042 - val_loss: 0.5028 - val_mae: 0.5028\n",
      "Epoch 2/30\n",
      "45/45 [==============================] - 0s 5ms/step - loss: 0.5042 - mae: 0.5042 - val_loss: 0.5028 - val_mae: 0.5028\n",
      "Epoch 3/30\n",
      "45/45 [==============================] - 0s 5ms/step - loss: 0.5042 - mae: 0.5042 - val_loss: 0.5028 - val_mae: 0.5028\n",
      "Epoch 4/30\n",
      "45/45 [==============================] - 0s 5ms/step - loss: 0.5042 - mae: 0.5042 - val_loss: 0.5028 - val_mae: 0.5028\n"
     ]
    }
   ],
   "source": [
    "from tensorflow.keras.callbacks import EarlyStopping\n",
    "early_stopping = EarlyStopping(monitor='val_loss', patience=3)\n",
    "# training\n",
    "history = model.fit(train_points, train_labels, epochs=30, batch_size=16, validation_data=(test_points, test_labels), verbose=1, callbacks=[early_stopping])"
   ]
  },
  {
   "cell_type": "code",
   "execution_count": 13,
   "metadata": {},
   "outputs": [
    {
     "name": "stdout",
     "output_type": "stream",
     "text": [
      "6/6 [==============================] - 0s 3ms/step - loss: 0.5028 - mae: 0.5028\n"
     ]
    }
   ],
   "source": [
    "test_loss, test_acc = model.evaluate(test_points, test_labels, verbose=1)"
   ]
  },
  {
   "cell_type": "code",
   "execution_count": 14,
   "metadata": {},
   "outputs": [
    {
     "name": "stdout",
     "output_type": "stream",
     "text": [
      "0.5027624368667603\n"
     ]
    }
   ],
   "source": [
    "print(test_acc)"
   ]
  },
  {
   "cell_type": "code",
   "execution_count": 29,
   "metadata": {},
   "outputs": [],
   "source": [
    "# pickle.dump(model, open(\"model.pkl\", \"wb\"))"
   ]
  },
  {
   "cell_type": "code",
   "execution_count": 15,
   "metadata": {},
   "outputs": [
    {
     "name": "stdout",
     "output_type": "stream",
     "text": [
      "Model: \"sequential_1\"\n",
      "_________________________________________________________________\n",
      " Layer (type)                Output Shape              Param #   \n",
      "=================================================================\n",
      " conv1d_1 (Conv1D)           (None, None, 64)          1024      \n",
      "                                                                 \n",
      " max_pooling1d_1 (MaxPoolin  (None, None, 64)          0         \n",
      " g1D)                                                            \n",
      "                                                                 \n",
      " dropout_1 (Dropout)         (None, None, 64)          0         \n",
      "                                                                 \n",
      " batch_normalization_1 (Bat  (None, None, 64)          256       \n",
      " chNormalization)                                                \n",
      "                                                                 \n",
      " conv1d_2 (Conv1D)           (None, None, 64)          12352     \n",
      "                                                                 \n",
      " max_pooling1d_2 (MaxPoolin  (None, None, 64)          0         \n",
      " g1D)                                                            \n",
      "                                                                 \n",
      " dropout_2 (Dropout)         (None, None, 64)          0         \n",
      "                                                                 \n",
      " batch_normalization_2 (Bat  (None, None, 64)          256       \n",
      " chNormalization)                                                \n",
      "                                                                 \n",
      " flatten (Flatten)           (None, None)              0         \n",
      "                                                                 \n",
      "=================================================================\n",
      "Total params: 13888 (54.25 KB)\n",
      "Trainable params: 13632 (53.25 KB)\n",
      "Non-trainable params: 256 (1.00 KB)\n",
      "_________________________________________________________________\n"
     ]
    }
   ],
   "source": [
    "# Define the input shape (5 features)\n",
    "input_shape = (None, 5)\n",
    "\n",
    "# Define the model\n",
    "model = models.Sequential()\n",
    "\n",
    "# 1. CNN layer\n",
    "model.add(layers.Conv1D(filters=64, kernel_size=3, activation='relu', input_shape=input_shape))\n",
    "model.add(layers.MaxPooling1D(pool_size=2))\n",
    "model.add(Dropout(0.25))\n",
    "model.add(BatchNormalization())\n",
    "\n",
    "model.add(layers.Conv1D(filters=64, kernel_size=3, activation='relu', input_shape=input_shape))\n",
    "model.add(layers.MaxPooling1D(pool_size=2))\n",
    "model.add(Dropout(0.25))\n",
    "model.add(BatchNormalization())\n",
    "\n",
    "# Flatten the output\n",
    "model.add(layers.Flatten())\n",
    "\n",
    "# Summary of the CNN model\n",
    "model.summary()\n"
   ]
  },
  {
   "cell_type": "code",
   "execution_count": 19,
   "metadata": {},
   "outputs": [
    {
     "name": "stdout",
     "output_type": "stream",
     "text": [
      "23/23 [==============================] - 0s 2ms/step\n",
      "6/6 [==============================] - 0s 2ms/step\n"
     ]
    }
   ],
   "source": [
    "import numpy as np\n",
    "\n",
    "# Assuming sequence_length = 100 for this example\n",
    "sequence_length = 100\n",
    "X = np.random.random((10, sequence_length, 5))  # Example data\n",
    "\n",
    "# Extract features using CNN\n",
    "X_Train_Features = model.predict(train_points)\n",
    "X_Test_Features = model.predict(test_points)"
   ]
  },
  {
   "cell_type": "code",
   "execution_count": 23,
   "metadata": {},
   "outputs": [
    {
     "name": "stdout",
     "output_type": "stream",
     "text": [
      "Accuracy: 99.45\n"
     ]
    }
   ],
   "source": [
    "from sklearn import svm\n",
    "from sklearn.model_selection import train_test_split\n",
    "from sklearn.metrics import accuracy_score\n",
    "\n",
    "svm_classifer = svm.SVC(kernel='linear')\n",
    "svm_classifer.fit(X_Train_Features, train_labels)\n",
    "\n",
    "y_pred = svm_classifer.predict(X_Test_Features)\n",
    "\n",
    "accuracy = accuracy_score(test_labels, y_pred)\n",
    "print('Accuracy: %.2f' % (accuracy*100))"
   ]
  },
  {
   "cell_type": "code",
   "execution_count": 26,
   "metadata": {},
   "outputs": [
    {
     "name": "stdout",
     "output_type": "stream",
     "text": [
      "716\n",
      "181\n",
      "716\n",
      "181\n"
     ]
    }
   ],
   "source": [
    "print(len(X_Train_Features))\n",
    "print(len(X_Test_Features))\n",
    "print(len(train_labels))\n",
    "print(len(test_labels))"
   ]
  }
 ],
 "metadata": {
  "kernelspec": {
   "display_name": "Python 3",
   "language": "python",
   "name": "python3"
  },
  "language_info": {
   "codemirror_mode": {
    "name": "ipython",
    "version": 3
   },
   "file_extension": ".py",
   "mimetype": "text/x-python",
   "name": "python",
   "nbconvert_exporter": "python",
   "pygments_lexer": "ipython3",
   "version": "3.11.4"
  }
 },
 "nbformat": 4,
 "nbformat_minor": 2
}
