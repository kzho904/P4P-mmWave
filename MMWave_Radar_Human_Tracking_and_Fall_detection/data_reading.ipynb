{
 "cells": [
  {
   "cell_type": "code",
   "execution_count": 1,
   "metadata": {},
   "outputs": [],
   "source": [
    "import pickle\n",
    "file =\"/Users/katiezhou/P4P-mmWave/MMWave_Radar_Human_Tracking_and_Fall_detection/point_taken_poss_matrix.pkl\""
   ]
  },
  {
   "cell_type": "code",
   "execution_count": 4,
   "metadata": {},
   "outputs": [],
   "source": [
    "# Load the data from the pickle file\n",
    "with open(file, 'rb') as file:\n",
    "    data = pickle.load(file)"
   ]
  },
  {
   "cell_type": "code",
   "execution_count": 5,
   "metadata": {},
   "outputs": [
    {
     "name": "stdout",
     "output_type": "stream",
     "text": [
      "[array([[7.998e-01, 3.715e+00, 1.286e+00, 3.757e-01, 3.110e+02],\n",
      "       [8.447e-01, 3.668e+00, 1.342e+00, 3.757e-01, 3.550e+02],\n",
      "       [8.462e-01, 3.689e+00, 1.248e+00, 2.505e-01, 3.330e+02],\n",
      "       [8.896e-01, 3.664e+00, 1.353e+00, 3.757e-01, 3.230e+02],\n",
      "       [7.998e-01, 3.668e+00, 1.207e+00, 2.505e-01, 3.500e+02],\n",
      "       [8.896e-01, 3.664e+00, 1.352e+00, 3.757e-01, 3.350e+02],\n",
      "       [9.390e-01, 3.602e+00, 1.367e+00, 3.757e-01, 3.020e+02]],\n",
      "      dtype=float16)]\n"
     ]
    }
   ],
   "source": [
    "print(data)"
   ]
  }
 ],
 "metadata": {
  "kernelspec": {
   "display_name": "Python 3",
   "language": "python",
   "name": "python3"
  },
  "language_info": {
   "codemirror_mode": {
    "name": "ipython",
    "version": 3
   },
   "file_extension": ".py",
   "mimetype": "text/x-python",
   "name": "python",
   "nbconvert_exporter": "python",
   "pygments_lexer": "ipython3",
   "version": "3.10.12"
  }
 },
 "nbformat": 4,
 "nbformat_minor": 2
}
