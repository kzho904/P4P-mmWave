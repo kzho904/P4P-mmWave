{
 "cells": [
  {
   "cell_type": "code",
   "execution_count": 1,
   "metadata": {},
   "outputs": [],
   "source": [
    "import pickle\n",
    "file = \"/Users/katiezhou/P4P-mmWave/MMWave_Radar_Human_Tracking_and_Fall_detection/data/bg_rm_entire_field_raw_3_class/jumping/test/katie_jumping4.pkl\""
   ]
  },
  {
   "cell_type": "code",
   "execution_count": 2,
   "metadata": {},
   "outputs": [
    {
     "name": "stdout",
     "output_type": "stream",
     "text": [
      "4.0\n"
     ]
    }
   ],
   "source": [
    "print(pickle.format_version)"
   ]
  },
  {
   "cell_type": "code",
   "execution_count": 3,
   "metadata": {},
   "outputs": [],
   "source": [
    "# Load the data from the pickle file\n",
    "with open(file, 'rb') as file:\n",
    "    data = pickle.load(file)"
   ]
  },
  {
   "cell_type": "code",
   "execution_count": 5,
   "metadata": {},
   "outputs": [
    {
     "name": "stdout",
     "output_type": "stream",
     "text": [
      "[[ 1.9922e+00  3.8652e+00  2.0820e+00  0.0000e+00  1.1300e+02]\n",
      " [ 4.9438e-01  1.0156e-01  9.4336e-01  0.0000e+00  1.3800e+02]\n",
      " [-1.3955e+00  6.3672e-01  4.9707e-01  0.0000e+00  1.3500e+02]\n",
      " ...\n",
      " [ 2.2705e-01  2.5469e+00  1.0371e+00  3.7573e-01  1.8400e+02]\n",
      " [ 3.6719e+00  2.9922e+00  1.2510e+00  3.7573e-01  1.4800e+02]\n",
      " [-3.0469e-01  1.7559e+00  8.2422e-01  3.7573e-01  1.4800e+02]]\n"
     ]
    }
   ],
   "source": [
    "print(data)"
   ]
  },
  {
   "cell_type": "code",
   "execution_count": null,
   "metadata": {},
   "outputs": [],
   "source": [
    "data.shape"
   ]
  }
 ],
 "metadata": {
  "kernelspec": {
   "display_name": "Python 3",
   "language": "python",
   "name": "python3"
  },
  "language_info": {
   "codemirror_mode": {
    "name": "ipython",
    "version": 3
   },
   "file_extension": ".py",
   "mimetype": "text/x-python",
   "name": "python",
   "nbconvert_exporter": "python",
   "pygments_lexer": "ipython3",
   "version": "3.10.12"
  }
 },
 "nbformat": 4,
 "nbformat_minor": 2
}
